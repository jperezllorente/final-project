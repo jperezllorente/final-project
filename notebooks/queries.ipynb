{
 "cells": [
  {
   "cell_type": "code",
   "execution_count": 1,
   "metadata": {},
   "outputs": [],
   "source": [
    "import pandas as pd\n",
    "import numpy as np\n",
    "import requests\n",
    "import geopandas, shapely\n",
    "from pymongo import MongoClient,GEOSPHERE\n",
    "from functools import partial"
   ]
  },
  {
   "cell_type": "code",
   "execution_count": 2,
   "metadata": {},
   "outputs": [],
   "source": [
    "def geo_frame(df):\n",
    "    df = geopandas.GeoDataFrame(df, geometry=geopandas.points_from_xy(df.latitude, df.longitude))\n",
    "    df['geometry']=df['geometry'].apply(lambda x:shapely.geometry.mapping(x))\n",
    "    return df"
   ]
  },
  {
   "cell_type": "markdown",
   "metadata": {},
   "source": [
    "### Trying geo queries with differente collections"
   ]
  },
  {
   "cell_type": "code",
   "execution_count": 3,
   "metadata": {},
   "outputs": [],
   "source": [
    "data = pd.read_csv(\"..\\\\data\\\\vivienda.csv\")"
   ]
  },
  {
   "cell_type": "code",
   "execution_count": 5,
   "metadata": {},
   "outputs": [
    {
     "name": "stderr",
     "output_type": "stream",
     "text": [
      "c:\\users\\juanp\\anaconda3\\envs\\ironhack\\lib\\site-packages\\geopandas\\geodataframe.py:852: UserWarning: Geometry column does not contain geometry.\n",
      "  warnings.warn(\"Geometry column does not contain geometry.\")\n"
     ]
    }
   ],
   "source": [
    "data = data = geo_frame(data)"
   ]
  },
  {
   "cell_type": "code",
   "execution_count": 7,
   "metadata": {},
   "outputs": [],
   "source": [
    "test = data.sample(100)\n",
    "coordinates = [list(i[\"coordinates\"]) for i in test.geometry]"
   ]
  },
  {
   "cell_type": "code",
   "execution_count": 25,
   "metadata": {},
   "outputs": [],
   "source": [
    "def insert_object(df, collection):\n",
    "    '''\n",
    "    This function inserts all the information from the dataframe we created with the previous function as a Mongodb object.\n",
    "    This object will have two field: title (name of the film or show) and reviews (array with all the reviews users have made)\n",
    "    '''\n",
    "\n",
    "    collection.insert_many(df.to_dict('records'))\n",
    "\n",
    "    return \"Data succesfully added\""
   ]
  },
  {
   "cell_type": "code",
   "execution_count": 8,
   "metadata": {},
   "outputs": [],
   "source": [
    "# Set connection with MongoDB\n",
    "conn = MongoClient(\"localhost:27017\")\n",
    "db = conn.get_database(\"final_project\")\n",
    "p = db.get_collection(\"places\")\n",
    "h = db.get_collection(\"homes\")"
   ]
  },
  {
   "cell_type": "code",
   "execution_count": 26,
   "metadata": {},
   "outputs": [
    {
     "data": {
      "text/plain": [
       "'Data succesfully added'"
      ]
     },
     "execution_count": 26,
     "metadata": {},
     "output_type": "execute_result"
    }
   ],
   "source": [
    "insert_object(data_test,h)"
   ]
  },
  {
   "cell_type": "code",
   "execution_count": 156,
   "metadata": {},
   "outputs": [],
   "source": [
    "def lugar(coords, categ, radio):\n",
    "    return list(p.find(\n",
    "        {\"category\": categ, \"geometry\": {\"$near\": {\n",
    "            \"$geometry\": {\"type\": \"Point\",\n",
    "                          \"coordinates\": coords\n",
    "                          }, \"$maxDistance\": radio}}}, {\"name\": 1, \"longitude\": 1, \"latitude\": 1, \"category\": 1}\n",
    "    ))\n",
    "\n",
    "\n",
    "def sum_gym(coords):\n",
    "    result = coords, len(lugar(coords, \"gym\", 500))\n",
    "    if result[1] < 5:\n",
    "        r = h.find_one({\"latitude\": result[0][0], \"longitude\": result[0][1]})\n",
    "        return r\n",
    "    else:\n",
    "        pass\n",
    "\n",
    "\n",
    "def sum_rest(coords):\n",
    "    result = coords, len(lugar(coords, \"restaurant\", 500))\n",
    "    if result[1] > 15:\n",
    "        r = h.find_one({\"latitude\": result[0][0], \"longitude\": result[0][1]})\n",
    "        return r\n",
    "    else:\n",
    "        pass\n",
    "\n",
    "\n",
    "def sum_night(coords):\n",
    "    result = coords, len(lugar(coords, \"nightlife\", 5000))\n",
    "    if result[1] > 15:\n",
    "        r = h.find_one({\"latitude\": result[0][0], \"longitude\": result[0][1]})\n",
    "        return r\n",
    "    else:\n",
    "        pass\n",
    "\n",
    "\n",
    "def sum_superm(coords):\n",
    "    result = coords, len(lugar(coords, \"supermarket\", 1500))\n",
    "    if result[1] < 5:\n",
    "        r = h.find_one({\"latitude\": result[0][0], \"longitude\": result[0][1]})\n",
    "        return r\n",
    "    else:\n",
    "        pass\n",
    "\n",
    "\n",
    "def sum_store(coords):\n",
    "    result = coords, len(lugar(coords, \"clothing_store\", 2500))\n",
    "    if result[1] > 10:\n",
    "        r = h.find_one({\"latitude\": result[0][0], \"longitude\": result[0][1]})\n",
    "        return r\n",
    "    else:\n",
    "        pass\n",
    "\n",
    "\n",
    "def sum_medical(coords):\n",
    "    result = coords, len(lugar(coords, \"medical_centre\", 6000))\n",
    "    if result[1] > 5:\n",
    "        r = h.find_one({\"latitude\": result[0][0], \"longitude\": result[0][1]})\n",
    "        return r\n",
    "    else:\n",
    "        pass\n",
    "\n",
    "\n",
    "def sum_transport(coords):\n",
    "    result = coords, len(lugar(coords, \"transport\", 700))\n",
    "    if result[1] < 5:\n",
    "        r = h.find_one({\"latitude\": result[0][0], \"longitude\": result[0][1]})\n",
    "        return r\n",
    "    else:\n",
    "        pass\n",
    "\n",
    "\n",
    "def sum_ent(coords):\n",
    "    result = coords, len(lugar(coords, \"general_entertainment\", 5000))\n",
    "    if result[1] > 15:\n",
    "        r = h.find_one({\"latitude\": result[0][0], \"longitude\": result[0][1]})\n",
    "        return r\n",
    "    else:\n",
    "        pass\n",
    "\n",
    "\n",
    "def sum_pharmacy(coords):\n",
    "    result = coords, len(lugar(coords, \"pharmacy\", 500))\n",
    "    if result[1] < 5:\n",
    "        r = h.find_one({\"latitude\": result[0][0], \"longitude\": result[0][1]})\n",
    "        return r\n",
    "    else:\n",
    "        pass\n",
    "\n",
    "\n",
    "def sum_parks(coords):\n",
    "    result = coords, len(lugar(coords, \"park\", 1500))\n",
    "    if result[1] > 2:\n",
    "        r = h.find_one({\"latitude\": result[0][0], \"longitude\": result[0][1]})\n",
    "        return r\n",
    "    else:\n",
    "        pass\n",
    "\n",
    "def sum_school(coords):\n",
    "    result = coords, len(lugar(coords, \"school\", 5000))\n",
    "    if result[1] > 5:\n",
    "        r = h.find_one({\"latitude\": result[0][0], \"longitude\": result[0][1]})\n",
    "        return r\n",
    "    else:\n",
    "        pass\n"
   ]
  },
  {
   "cell_type": "code",
   "execution_count": 67,
   "metadata": {},
   "outputs": [
    {
     "data": {
      "text/plain": [
       "43"
      ]
     },
     "execution_count": 67,
     "metadata": {},
     "output_type": "execute_result"
    }
   ],
   "source": [
    "len(list(filter(None, map(sum_gym,coordinates))))"
   ]
  },
  {
   "cell_type": "code",
   "execution_count": 10,
   "metadata": {},
   "outputs": [],
   "source": [
    "coordinates = [list(i[\"coordinates\"]) for i in test.geometry]"
   ]
  },
  {
   "cell_type": "code",
   "execution_count": 10,
   "metadata": {},
   "outputs": [],
   "source": [
    "def category(choice):\n",
    "\n",
    "    if choice == \"Supermarkets\":\n",
    "        return list(filter(None, map(sum_superm, coordinates)))\n",
    "\n",
    "    elif choice == \"Gyms\":\n",
    "        return list(filter(None, map(sum_gym, coordinates)))\n",
    "\n",
    "    elif choice == \"Clothing store\":\n",
    "        return list(filter(None, map(sum_store, coordinates)))\n",
    "\n",
    "    elif choice == \"Nightlife\":\n",
    "        return list(filter(None, map(sum_night, coordinates)))\n",
    "\n",
    "    elif choice == \"Transport\":\n",
    "        return list(filter(None, map(sum_transport, coordinates)))\n",
    "\n",
    "    elif choice == \"Entertainment\":\n",
    "        return list(filter(None, map(sum_ent, coordinates)))\n",
    "\n",
    "    elif choice == \"Parks\":\n",
    "        return list(filter(None, map(sum_parks, coordinates)))\n",
    "\n",
    "    elif choice == \"Restaurants\":\n",
    "        return list(filter(None, map(sum_rest, coordinates)))\n",
    "\n",
    "    elif choice == \"Pharmacy\":\n",
    "        return list(filter(None, map(sum_pharmacy, coordinates)))\n",
    "\n",
    "    elif choice == \"Hospital\":\n",
    "        return list(filter(None, map(sum_medical, coordinates)))\n",
    "\n",
    "    elif choice == \"School\":\n",
    "        return list(filter(None, map(sum_school, coordinates)))\n",
    "\n",
    "\n",
    "def final(district, cat_1, cat_2, cat_3, price):\n",
    "    lista = []\n",
    "\n",
    "    lista.append(category(cat_1))\n",
    "    lista.append(category(cat_2))\n",
    "    lista.append(category(cat_3))\n",
    "\n",
    "    x = pd.DataFrame(lista[0])\n",
    "    y = pd.DataFrame(lista[1])\n",
    "    z = pd.DataFrame(lista[2])\n",
    "    \n",
    "    result = pd.concat([x,y,z])   \n",
    "    \n",
    "    result = result[result[\"district\"] == district]\n",
    "    \n",
    "    if price == \"Lower than 1K EUR\":\n",
    "        \n",
    "        result = result[result[\"price\"] <= 1000]\n",
    "        \n",
    "    elif price == \"Between 1K and 2K EUR\":\n",
    "        \n",
    "        result = result[(result.price > 1000) & (result.price <= 2000)]\n",
    "    \n",
    "    elif price == \"Between 2K and 3K EUR\":\n",
    "        \n",
    "        result = result[(result.price > 2000) & (result.price <= 3000)]\n",
    "    \n",
    "    elif price == \"Between 3k and 4k EUR\":\n",
    "        \n",
    "        result = result[(result.price > 3000) & (result.price <= 4000)]\n",
    "        \n",
    "    elif price == \"Between 4k and 5k EUR\":\n",
    "        \n",
    "        result = result = result[(result.price > 4000) & (result.price <= 5000)]\n",
    "        \n",
    "    elif price == \"Higher than 5K EUR\":\n",
    "        \n",
    "        result = result = result[(result.price > 5000)]\n",
    "    \n",
    "    if len(result) == 0:\n",
    "        return \"Your search had no resulls. If you want, try other parameters\"\n",
    "    else: \n",
    "        return result[result.groupby('latitude').latitude.transform('count')>2]"
   ]
  },
  {
   "cell_type": "code",
   "execution_count": null,
   "metadata": {},
   "outputs": [],
   "source": []
  },
  {
   "cell_type": "code",
   "execution_count": 83,
   "metadata": {},
   "outputs": [],
   "source": [
    "x = final(\"Centro\", \"Gyms\", \"Transport\", \"Hospital\", \"Between 2K and 3K EUR\")"
   ]
  },
  {
   "cell_type": "code",
   "execution_count": 84,
   "metadata": {},
   "outputs": [],
   "source": [
    "x = x.sort_values(by=\"latitude\")"
   ]
  },
  {
   "cell_type": "markdown",
   "metadata": {},
   "source": [
    "### Folium "
   ]
  },
  {
   "cell_type": "code",
   "execution_count": 17,
   "metadata": {},
   "outputs": [],
   "source": [
    "import folium\n",
    "from folium import Choropleth, Circle, Marker, Icon, Map\n",
    "from folium.plugins import HeatMap, MarkerCluster"
   ]
  },
  {
   "cell_type": "code",
   "execution_count": 50,
   "metadata": {},
   "outputs": [],
   "source": [
    "centre = 40.437863, -3.690433"
   ]
  },
  {
   "cell_type": "code",
   "execution_count": 18,
   "metadata": {},
   "outputs": [],
   "source": [
    "def mapa(inicial_lat, inicial_long, zoom):\n",
    "    \n",
    "    x = folium.Map(location = [40.437863, -3.690433], zoom_start = 12.5)\n",
    "\n",
    "\n",
    "def full_map(df):\n",
    "    \n",
    "    folium_map = folium.Map(location = [40.437863, -3.690433], zoom_start = 12.5)\n",
    "    \n",
    "    for i,row in df.iterrows():\n",
    "        \n",
    "        home = {\n",
    "                \"location\" : [row[\"latitude\"], row[\"longitude\"]],\n",
    "                \"tooltip\" : [row[\"price\"], row[\"propertyType\"],row[\"size\"], row[\"url\"]]\n",
    "        }\n",
    "        icon = Icon( color = \"blue\",\n",
    "                        prefix = \"fa\",\n",
    "                        icon = \"home\",\n",
    "                        icon_color = \"white\"\n",
    "        )\n",
    "        Marker (**home,icon = icon).add_to(folium_map)\n",
    "    return folium_map"
   ]
  }
 ],
 "metadata": {
  "kernelspec": {
   "display_name": "Python 3",
   "language": "python",
   "name": "python3"
  },
  "language_info": {
   "codemirror_mode": {
    "name": "ipython",
    "version": 3
   },
   "file_extension": ".py",
   "mimetype": "text/x-python",
   "name": "python",
   "nbconvert_exporter": "python",
   "pygments_lexer": "ipython3",
   "version": "3.9.0"
  }
 },
 "nbformat": 4,
 "nbformat_minor": 4
}
