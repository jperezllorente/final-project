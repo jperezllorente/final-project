{
 "cells": [
  {
   "cell_type": "code",
   "execution_count": 1,
   "metadata": {},
   "outputs": [],
   "source": [
    "import pandas as pd\n",
    "import numpy as np\n",
    "import requests\n",
    "import geopandas, shapely\n",
    "from pymongo import MongoClient,GEOSPHERE\n",
    "from functools import partial"
   ]
  },
  {
   "cell_type": "code",
   "execution_count": 2,
   "metadata": {},
   "outputs": [],
   "source": [
    "def geo_frame(df):\n",
    "    df = geopandas.GeoDataFrame(df, geometry=geopandas.points_from_xy(df.latitude, df.longitude))\n",
    "    df['geometry']=df['geometry'].apply(lambda x:shapely.geometry.mapping(x))\n",
    "    return df"
   ]
  },
  {
   "cell_type": "markdown",
   "metadata": {},
   "source": [
    "### Trying geo queries with differente collections"
   ]
  },
  {
   "cell_type": "code",
   "execution_count": 42,
   "metadata": {},
   "outputs": [],
   "source": [
    "data = pd.read_csv(\"data\\\\test.csv\")"
   ]
  },
  {
   "cell_type": "code",
   "execution_count": 43,
   "metadata": {},
   "outputs": [
    {
     "name": "stderr",
     "output_type": "stream",
     "text": [
      "c:\\users\\juanp\\anaconda3\\envs\\ironhack\\lib\\site-packages\\geopandas\\geodataframe.py:852: UserWarning: Geometry column does not contain geometry.\n",
      "  warnings.warn(\"Geometry column does not contain geometry.\")\n"
     ]
    }
   ],
   "source": [
    "data = data = geo_frame(data)"
   ]
  },
  {
   "cell_type": "code",
   "execution_count": 68,
   "metadata": {},
   "outputs": [],
   "source": [
    "test = data.head(100)\n",
    "coordinates = [list(i[\"coordinates\"]) for i in test.geometry]"
   ]
  },
  {
   "cell_type": "code",
   "execution_count": 5,
   "metadata": {},
   "outputs": [],
   "source": [
    "# Set connection with MongoDB\n",
    "conn = MongoClient(\"localhost:27017\")\n",
    "db = conn.get_database(\"final_project\")\n",
    "p = db.get_collection(\"places\")\n",
    "h = db.get_collection(\"homes\")"
   ]
  },
  {
   "cell_type": "code",
   "execution_count": 94,
   "metadata": {},
   "outputs": [],
   "source": [
    "def haversine(coord1, coord2):\n",
    "\n",
    "    R = 6372800  # Earth radius in meters\n",
    "    lat1, lon1 = coord1\n",
    "    lat2, lon2 = coord2\n",
    "    \n",
    "    phi1, phi2 = math.radians(lat1), math.radians(lat2) \n",
    "    dphi       = math.radians(lat2 - lat1)\n",
    "    dlambda    = math.radians(lon2 - lon1)\n",
    "    \n",
    "    a = math.sin(dphi/2)**2 + \\\n",
    "        math.cos(phi1)*math.cos(phi2)*math.sin(dlambda/2)**2\n",
    "    \n",
    "    return 2*R*math.atan2(math.sqrt(a), math.sqrt(1 - a))"
   ]
  },
  {
   "cell_type": "code",
   "execution_count": 66,
   "metadata": {},
   "outputs": [],
   "source": [
    "def lugar(coords, categ, radio):\n",
    "    return list(p.find(\n",
    "        {\"category\": categ, \"geometry\": {\"$near\": {\n",
    "            \"$geometry\": {\"type\": \"Point\",\n",
    "                          \"coordinates\": coords\n",
    "                          }, \"$maxDistance\": radio}}}, {\"name\": 1, \"longitude\": 1, \"latitude\": 1, \"category\": 1}\n",
    "    ))\n",
    "\n",
    "\n",
    "def sum_gym(coords):\n",
    "    result = coords, len(lugar(coords, \"gym\", 1000))\n",
    "    if result[1] < 5:\n",
    "        r = h.find_one({\"latitude\": result[0][0], \"longitude\": result[0][1]})\n",
    "        return r\n",
    "    else:\n",
    "        pass\n",
    "\n",
    "\n",
    "def sum_rest(coords):\n",
    "    result = coords, len(lugar(coords, \"restaurant\", 5000))\n",
    "    if result[1] > 15:\n",
    "        r = h.find_one({\"latitude\": result[0][0], \"longitude\": result[0][1]})\n",
    "        return r\n",
    "    else:\n",
    "        pass\n",
    "\n",
    "\n",
    "def sum_night(coords):\n",
    "    result = coords, len(lugar(coords, \"nightlife\", 5000))\n",
    "    if result[1] > 15:\n",
    "        r = h.find_one({\"latitude\": result[0][0], \"longitude\": result[0][1]})\n",
    "        return r\n",
    "    else:\n",
    "        pass\n",
    "\n",
    "\n",
    "def sum_superm(coords):\n",
    "    result = coords, len(lugar(coords, \"supermarket\", 1500))\n",
    "    if result[1] < 5:\n",
    "        r = h.find_one({\"latitude\": result[0][0], \"longitude\": result[0][1]})\n",
    "        return r\n",
    "    else:\n",
    "        pass\n",
    "\n",
    "\n",
    "def sum_store(coords):\n",
    "    result = coords, len(lugar(coords, \"clothing_store\", 2500))\n",
    "    if result[1] > 10:\n",
    "        r = h.find_one({\"latitude\": result[0][0], \"longitude\": result[0][1]})\n",
    "        return r\n",
    "    else:\n",
    "        pass\n",
    "\n",
    "\n",
    "def sum_medical(coords):\n",
    "    result = coords, len(lugar(coords, \"medical_centre\", 6000))\n",
    "    if result[1] > 5:\n",
    "        r = h.find_one({\"latitude\": result[0][0], \"longitude\": result[0][1]})\n",
    "        return r\n",
    "    else:\n",
    "        pass\n",
    "\n",
    "\n",
    "def sum_transport(coords):\n",
    "    result = coords, len(lugar(coords, \"transport\", 700))\n",
    "    if result[1] < 5:\n",
    "        r = h.find_one({\"latitude\": result[0][0], \"longitude\": result[0][1]})\n",
    "        return r\n",
    "    else:\n",
    "        pass\n",
    "\n",
    "\n",
    "def sum_ent(coords):\n",
    "    result = coords, len(lugar(coords, \"general_entertainment\", 5000))\n",
    "    if result[1] > 15:\n",
    "        r = h.find_one({\"latitude\": result[0][0], \"longitude\": result[0][1]})\n",
    "        return r\n",
    "    else:\n",
    "        pass\n",
    "\n",
    "\n",
    "def sum_pharmacy(coords):\n",
    "    result = coords, len(lugar(coords, \"pharmacy\", 500))\n",
    "    if result[1] < 5:\n",
    "        r = h.find_one({\"latitude\": result[0][0], \"longitude\": result[0][1]})\n",
    "        return r\n",
    "    else:\n",
    "        pass\n",
    "\n",
    "\n",
    "def sum_parks(coords):\n",
    "    result = coords, len(lugar(coords, \"park\", 1500))\n",
    "    if result[1] > 2:\n",
    "        r = h.find_one({\"latitude\": result[0][0], \"longitude\": result[0][1]})\n",
    "        return r\n",
    "    else:\n",
    "        pass\n",
    "\n",
    "def sum_school(coords):\n",
    "    result = coords, len(lugar(coords, \"school\", 5000))\n",
    "    if result[1] > 5:\n",
    "        r = h.find_one({\"latitude\": result[0][0], \"longitude\": result[0][1]})\n",
    "        return r\n",
    "    else:\n",
    "        pass\n"
   ]
  },
  {
   "cell_type": "code",
   "execution_count": 92,
   "metadata": {},
   "outputs": [],
   "source": [
    "def category(choice):\n",
    "\n",
    "    if choice == \"Supermarkets\":\n",
    "        return list(filter(None, map(sum_superm, coordinates)))\n",
    "\n",
    "    elif choice == \"Gyms\":\n",
    "        return list(filter(None, map(sum_gym, coordinates)))\n",
    "\n",
    "    elif choice == \"Clothing store\":\n",
    "        return list(filter(None, map(sum_store, coordinates)))\n",
    "\n",
    "    elif choice == \"Nightlife\":\n",
    "        return list(filter(None, map(sum_night, coordinates)))\n",
    "\n",
    "    elif choice == \"Transport\":\n",
    "        return list(filter(None, map(sum_transport, coordinates)))\n",
    "\n",
    "    elif choice == \"Entertainment\":\n",
    "        return list(filter(None, map(sum_ent, coordinates)))\n",
    "\n",
    "    elif choice == \"Parks\":\n",
    "        return list(filter(None, map(sum_parks, coordinates)))\n",
    "\n",
    "    elif choice == \"Restaurants\":\n",
    "        return list(filter(None, map(sum_rest, coordinates)))\n",
    "\n",
    "    elif choice == \"Pharmacy\":\n",
    "        return list(filter(None, map(sum_pharmacy, coordinates)))\n",
    "\n",
    "    elif choice == \"Hospital\":\n",
    "        return list(filter(None, map(sum_medical, coordinates)))\n",
    "\n",
    "    elif choice == \"School\":\n",
    "        return list(filter(None, map(sum_school, coordinates)))\n",
    "\n",
    "\n",
    "def final(distrcit, cat_1, cat_2, cat_3):\n",
    "    lista = []\n",
    "\n",
    "    lista.append(category(cat_1))\n",
    "    lista.append(category(cat_2))\n",
    "    lista.append(category(cat_3))\n",
    "\n",
    "    x = pd.DataFrame(lista[0])\n",
    "    y = pd.DataFrame(lista[1])\n",
    "    z = pd.DataFrame(lista[2])\n",
    "    \n",
    "    result = pd.concat([x,y,z])   \n",
    "    \n",
    "    result = result[result[\"district\"] == district]\n",
    "    \n",
    "    return result[result.groupby('latitude').latitude.transform('count')>1].drop_duplicates(subset=\"latitude\", keep='first')"
   ]
  },
  {
   "cell_type": "code",
   "execution_count": 11,
   "metadata": {},
   "outputs": [],
   "source": [
    "def final(cat_1, cat_2, cat_3):\n",
    "\n",
    "    lista = []\n",
    "\n",
    "    lista.append(category(cat_1))\n",
    "    lista.append(category(cat_2))\n",
    "    lista.append(category(cat_3))\n",
    "    l = lista[0] + lista[1]\n",
    "    \n",
    "    return [dict(t) for t in {tuple(d.items()) for d in l}]"
   ]
  },
  {
   "cell_type": "markdown",
   "metadata": {},
   "source": [
    "### Folium "
   ]
  },
  {
   "cell_type": "code",
   "execution_count": 17,
   "metadata": {},
   "outputs": [],
   "source": [
    "import folium\n",
    "from folium import Choropleth, Circle, Marker, Icon, Map\n",
    "from folium.plugins import HeatMap, MarkerCluster"
   ]
  },
  {
   "cell_type": "code",
   "execution_count": 50,
   "metadata": {},
   "outputs": [],
   "source": [
    "centre = 40.437863, -3.690433"
   ]
  },
  {
   "cell_type": "code",
   "execution_count": 18,
   "metadata": {},
   "outputs": [],
   "source": [
    "def mapa(inicial_lat, inicial_long, zoom):\n",
    "    \n",
    "    x = folium.Map(location = [40.437863, -3.690433], zoom_start = 12.5)\n",
    "\n",
    "\n",
    "def full_map(df):\n",
    "    \n",
    "    folium_map = folium.Map(location = [40.437863, -3.690433], zoom_start = 12.5)\n",
    "    \n",
    "    for i,row in df.iterrows():\n",
    "        \n",
    "        home = {\n",
    "                \"location\" : [row[\"latitude\"], row[\"longitude\"]],\n",
    "                \"tooltip\" : [row[\"price\"], row[\"propertyType\"],row[\"size\"], row[\"url\"]]\n",
    "        }\n",
    "        icon = Icon( color = \"blue\",\n",
    "                        prefix = \"fa\",\n",
    "                        icon = \"home\",\n",
    "                        icon_color = \"white\"\n",
    "        )\n",
    "        Marker (**home,icon = icon).add_to(folium_map)\n",
    "    return folium_map"
   ]
  },
  {
   "cell_type": "code",
   "execution_count": 63,
   "metadata": {},
   "outputs": [],
   "source": [
    "madrid = mapa(40.437863, -3.690433, 12.5)"
   ]
  },
  {
   "cell_type": "code",
   "execution_count": null,
   "metadata": {},
   "outputs": [],
   "source": []
  }
 ],
 "metadata": {
  "kernelspec": {
   "display_name": "Python 3",
   "language": "python",
   "name": "python3"
  },
  "language_info": {
   "codemirror_mode": {
    "name": "ipython",
    "version": 3
   },
   "file_extension": ".py",
   "mimetype": "text/x-python",
   "name": "python",
   "nbconvert_exporter": "python",
   "pygments_lexer": "ipython3",
   "version": "3.9.0"
  }
 },
 "nbformat": 4,
 "nbformat_minor": 4
}
