{
 "cells": [
  {
   "cell_type": "code",
   "execution_count": 2,
   "metadata": {},
   "outputs": [],
   "source": [
    "import pandas as pd\n",
    "import numpy as np\n",
    "import requests\n",
    "import regex as re\n",
    "import geopandas, shapely\n",
    "import json\n",
    "from functools import reduce\n",
    "import operator\n",
    "from pymongo import MongoClient,GEOSPHERE"
   ]
  },
  {
   "cell_type": "code",
   "execution_count": 14,
   "metadata": {},
   "outputs": [],
   "source": [
    "# Set connection with MongoDB\n",
    "conn = MongoClient(\"localhost:27017\")\n",
    "db = conn.get_database(\"final_project\")\n",
    "p = db.get_collection(\"places\")\n",
    "h = db.get_collection(\"homes\")"
   ]
  },
  {
   "cell_type": "code",
   "execution_count": 15,
   "metadata": {},
   "outputs": [
    {
     "data": {
      "text/plain": [
       "'geometry_2dsphere'"
      ]
     },
     "execution_count": 15,
     "metadata": {},
     "output_type": "execute_result"
    }
   ],
   "source": [
    "p.create_index([(\"geometry\",GEOSPHERE)])\n",
    "h.create_index([(\"geometry\",GEOSPHERE)])"
   ]
  },
  {
   "cell_type": "code",
   "execution_count": 16,
   "metadata": {},
   "outputs": [],
   "source": [
    "def insert_object(df, collection):\n",
    "    '''\n",
    "    This function inserts all the information from the dataframe we created with the previous function as a Mongodb object.\n",
    "    This object will have two field: title (name of the film or show) and reviews (array with all the reviews users have made)\n",
    "    '''\n",
    "\n",
    "    collection.insert_many(df.to_dict('records'))\n",
    "\n",
    "    return \"Data succesfully added\""
   ]
  },
  {
   "cell_type": "code",
   "execution_count": 520,
   "metadata": {},
   "outputs": [],
   "source": [
    "# Download JSON file \n",
    "data = json.load(open(\"data\\\\data_vivienda.json\", 'r', encoding='utf-8'))"
   ]
  },
  {
   "cell_type": "code",
   "execution_count": 521,
   "metadata": {},
   "outputs": [
    {
     "data": {
      "text/plain": [
       "Index(['propertyCode', 'thumbnail', 'externalReference', 'numPhotos', 'floor',\n",
       "       'price', 'propertyType', 'operation', 'size', 'exterior', 'rooms',\n",
       "       'bathrooms', 'address', 'province', 'municipality', 'district',\n",
       "       'country', 'neighborhood', 'latitude', 'longitude', 'showAddress',\n",
       "       'url', 'hasVideo', 'status', 'newDevelopment', 'hasLift', 'priceByArea',\n",
       "       'detailedType', 'suggestedTexts', 'hasPlan', 'has3DTour', 'has360',\n",
       "       'parkingSpace', 'newDevelopmentFinished'],\n",
       "      dtype='object')"
      ]
     },
     "execution_count": 521,
     "metadata": {},
     "output_type": "execute_result"
    }
   ],
   "source": [
    "data_vivienda = pd.DataFrame(data)\n",
    "data_vivienda.columns"
   ]
  },
  {
   "cell_type": "code",
   "execution_count": 522,
   "metadata": {},
   "outputs": [],
   "source": [
    "data_vivienda = data_vivienda.drop([\"thumbnail\",\"propertyCode\", \"externalReference\", \"numPhotos\", \"hasVideo\", \"priceByArea\", \"detailedType\", \"country\", \"suggestedTexts\", \"hasPlan\", \"has3DTour\", \"has360\", \"newDevelopmentFinished\"], axis = 1)"
   ]
  },
  {
   "cell_type": "code",
   "execution_count": 523,
   "metadata": {},
   "outputs": [],
   "source": [
    "# I'm only interested in those houses inside Madrid, so I'm going to delete all observations that belong to another municipality\n",
    "data_vivienda = data_vivienda[data_vivienda[\"municipality\"]==\"Madrid\"]"
   ]
  },
  {
   "cell_type": "code",
   "execution_count": 8,
   "metadata": {},
   "outputs": [
    {
     "data": {
      "text/plain": [
       "floor              object\n",
       "price             float64\n",
       "propertyType       object\n",
       "operation          object\n",
       "size              float64\n",
       "exterior             bool\n",
       "rooms               int64\n",
       "bathrooms           int64\n",
       "address            object\n",
       "province           object\n",
       "municipality       object\n",
       "district           object\n",
       "neighborhood       object\n",
       "latitude          float64\n",
       "longitude         float64\n",
       "showAddress          bool\n",
       "url                object\n",
       "status             object\n",
       "newDevelopment       bool\n",
       "hasLift            object\n",
       "parkingSpace       object\n",
       "dtype: object"
      ]
     },
     "execution_count": 8,
     "metadata": {},
     "output_type": "execute_result"
    }
   ],
   "source": [
    "data_vivienda.dtypes"
   ]
  },
  {
   "cell_type": "code",
   "execution_count": 9,
   "metadata": {},
   "outputs": [
    {
     "data": {
      "text/plain": [
       "floor              108\n",
       "price                0\n",
       "propertyType         0\n",
       "operation            0\n",
       "size                 0\n",
       "exterior             0\n",
       "rooms                0\n",
       "bathrooms            0\n",
       "address              0\n",
       "province             0\n",
       "municipality         0\n",
       "district             0\n",
       "neighborhood         0\n",
       "latitude             0\n",
       "longitude            0\n",
       "showAddress          0\n",
       "url                  0\n",
       "status             556\n",
       "newDevelopment       0\n",
       "hasLift            154\n",
       "parkingSpace      6018\n",
       "dtype: int64"
      ]
     },
     "execution_count": 9,
     "metadata": {},
     "output_type": "execute_result"
    }
   ],
   "source": [
    "data_vivienda.isnull().sum()\n",
    "# Parkingspace has too many null values, and as we cannot fill the with a proper value the best option is to drop the whole column (explain in API the reason for the lack of information)\n",
    "# Let's check the floor, status and hasLift variables"
   ]
  },
  {
   "cell_type": "code",
   "execution_count": 524,
   "metadata": {},
   "outputs": [],
   "source": [
    "data_vivienda = data_vivienda.drop(\"parkingSpace\", axis = 1)"
   ]
  },
  {
   "cell_type": "code",
   "execution_count": 480,
   "metadata": {},
   "outputs": [
    {
     "data": {
      "text/plain": [
       "good              8000\n",
       "renew               24\n",
       "newdevelopment       8\n",
       "Name: status, dtype: int64"
      ]
     },
     "execution_count": 480,
     "metadata": {},
     "output_type": "execute_result"
    }
   ],
   "source": [
    "data_vivienda.status.value_counts()\n",
    "# In this case we are going to fill the null values with 'unspecified'"
   ]
  },
  {
   "cell_type": "code",
   "execution_count": 525,
   "metadata": {},
   "outputs": [],
   "source": [
    "# There a couple of values that are not numbers, so I'm going to change them to a value that can be valid. In this case '0', as after looking a Idelista we can assume they are street level homes\n",
    "data_vivienda.floor = data_vivienda.floor.replace([\"bj\",\"en\",\"st\",\"ss\"], \"0\", regex = True)"
   ]
  },
  {
   "cell_type": "code",
   "execution_count": 526,
   "metadata": {},
   "outputs": [],
   "source": [
    "data_vivienda.status = data_vivienda.status.fillna('unspecified')"
   ]
  },
  {
   "cell_type": "code",
   "execution_count": 527,
   "metadata": {},
   "outputs": [],
   "source": [
    "data_vivienda.hasLift = data_vivienda.hasLift.fillna(\"unspecified\")"
   ]
  },
  {
   "cell_type": "code",
   "execution_count": 528,
   "metadata": {},
   "outputs": [],
   "source": [
    "data_vivienda = data_vivienda.dropna(how = 'any')"
   ]
  },
  {
   "cell_type": "code",
   "execution_count": 17,
   "metadata": {},
   "outputs": [],
   "source": [
    "def geo_frame(df):\n",
    "    df = geopandas.GeoDataFrame(df, geometry=geopandas.points_from_xy(df.latitude, df.longitude))\n",
    "    df['geometry']=df['geometry'].apply(lambda x:shapely.geometry.mapping(x))\n",
    "    return df"
   ]
  },
  {
   "cell_type": "code",
   "execution_count": 529,
   "metadata": {},
   "outputs": [
    {
     "name": "stderr",
     "output_type": "stream",
     "text": [
      "c:\\users\\juanp\\anaconda3\\envs\\ironhack\\lib\\site-packages\\geopandas\\geodataframe.py:852: UserWarning: Geometry column does not contain geometry.\n",
      "  warnings.warn(\"Geometry column does not contain geometry.\")\n"
     ]
    }
   ],
   "source": [
    "data_vivienda = geo_frame(data_vivienda)"
   ]
  },
  {
   "cell_type": "code",
   "execution_count": 530,
   "metadata": {},
   "outputs": [],
   "source": [
    "# As I have limited resources, and the number of queries I can do in all APIs is limited, I'm going to focus on three district with the more number of houses available\n",
    "\n",
    "data_vivienda = data_vivienda[data_vivienda.groupby('district').district.transform('count')>71]"
   ]
  },
  {
   "cell_type": "code",
   "execution_count": 17,
   "metadata": {},
   "outputs": [
    {
     "data": {
      "text/plain": [
       "Centro       1741\n",
       "Salamanca    1727\n",
       "Chamberí      972\n",
       "Chamartín     813\n",
       "Name: district, dtype: int64"
      ]
     },
     "execution_count": 17,
     "metadata": {},
     "output_type": "execute_result"
    }
   ],
   "source": [
    "test.district.value_counts()"
   ]
  },
  {
   "cell_type": "code",
   "execution_count": 513,
   "metadata": {},
   "outputs": [
    {
     "data": {
      "text/plain": [
       "2    2709\n",
       "1    2083\n",
       "3    1822\n",
       "4     833\n",
       "5     270\n",
       "Name: rooms, dtype: int64"
      ]
     },
     "execution_count": 513,
     "metadata": {},
     "output_type": "execute_result"
    }
   ],
   "source": [
    "data_vivienda.rooms.value_counts()"
   ]
  },
  {
   "cell_type": "code",
   "execution_count": 531,
   "metadata": {},
   "outputs": [],
   "source": [
    "data_vivienda = data_vivienda[data_vivienda.groupby('rooms').rooms.transform('count')>70]"
   ]
  },
  {
   "cell_type": "code",
   "execution_count": 532,
   "metadata": {},
   "outputs": [],
   "source": [
    "data_vivienda = data_vivienda.drop(data_vivienda[data_vivienda.rooms == 0].index)"
   ]
  },
  {
   "cell_type": "code",
   "execution_count": 533,
   "metadata": {},
   "outputs": [],
   "source": [
    "data_vivienda = data_vivienda[data_vivienda.groupby('floor').floor.transform('count')>20]"
   ]
  },
  {
   "cell_type": "code",
   "execution_count": null,
   "metadata": {},
   "outputs": [],
   "source": [
    "data_test = data[data.price < 7000]"
   ]
  },
  {
   "cell_type": "code",
   "execution_count": 537,
   "metadata": {},
   "outputs": [
    {
     "data": {
      "text/plain": [
       "'Data succesfully added'"
      ]
     },
     "execution_count": 537,
     "metadata": {},
     "output_type": "execute_result"
    }
   ],
   "source": [
    "insert_object(data_vivienda, h)"
   ]
  },
  {
   "cell_type": "code",
   "execution_count": 494,
   "metadata": {},
   "outputs": [],
   "source": [
    "districts = [i for i in data_vivienda.district.unique()]"
   ]
  },
  {
   "cell_type": "code",
   "execution_count": 18,
   "metadata": {},
   "outputs": [],
   "source": [
    "test.to_csv(\"data\\\\test.csv\")"
   ]
  },
  {
   "cell_type": "code",
   "execution_count": 548,
   "metadata": {},
   "outputs": [],
   "source": [
    "data_vivienda.to_csv(\"data\\\\vivienda.csv\")"
   ]
  },
  {
   "cell_type": "markdown",
   "metadata": {},
   "source": [
    "### FOURSQUARE API"
   ]
  },
  {
   "cell_type": "code",
   "execution_count": 21,
   "metadata": {},
   "outputs": [],
   "source": [
    "client_id = open(\"..\\\\keys\\\\foursquare_key.txt\").readlines()[0]\n",
    "client_secret = open(\"..\\\\keys\\\\foursquare_key.txt\").readlines()[1]\n",
    "version = '20180323'"
   ]
  },
  {
   "cell_type": "code",
   "execution_count": 22,
   "metadata": {},
   "outputs": [],
   "source": [
    "def extract(url):\n",
    "    \n",
    "    results = requests.get(url)\n",
    "\n",
    "    code = json.loads(results.text)\n",
    "\n",
    "    decoding = code.get(\"response\")\n",
    "\n",
    "    decoded = decoding.get(\"groups\")[0]\n",
    "\n",
    "    return decoded.get(\"items\")"
   ]
  },
  {
   "cell_type": "code",
   "execution_count": 23,
   "metadata": {},
   "outputs": [],
   "source": [
    "def getFromDict(diccionario,objeto):\n",
    "    return reduce(operator.getitem,objeto,diccionario)\n",
    "\n",
    "def places_df(frame,category):\n",
    "    \n",
    "    nombre = [\"venue\",\"name\"]\n",
    "    latitud = [\"venue\", \"location\",\"lat\"]\n",
    "    longitud = [\"venue\",\"location\",\"lng\"]\n",
    "    barrio = [\"venue\", \"location\", \"neighborhood\"]\n",
    "    tipo = [\"venue\", \"categories\", \"pluralName\"]\n",
    "    x = []\n",
    "    \n",
    "    for diccionario in frame:\n",
    "        lista = {}\n",
    "        lista[\"name\"] = getFromDict(diccionario,nombre)\n",
    "        lista[\"longitude\"] = getFromDict(diccionario,longitud)\n",
    "        lista[\"latitude\"] = getFromDict(diccionario,latitud)\n",
    "\n",
    "        \n",
    "        x.append(lista)\n",
    "        \n",
    "        frame = pd.DataFrame(x)\n",
    "\n",
    "    c = [category for _ in range(len(frame))]\n",
    "        \n",
    "    frame[\"category\"] = c\n",
    "    \n",
    "    return frame"
   ]
  },
  {
   "cell_type": "code",
   "execution_count": 350,
   "metadata": {},
   "outputs": [],
   "source": [
    "location = \"40.462781, -3.686737\"\n",
    "limit = 10\n",
    "cat_id = \"4bf58dd8d48988d116941735\"\n",
    "radius = 100\n",
    "url=f'https://api.foursquare.com/v2/venues/explore?&client_id={client_id}&client_secret={client_secret}&v={version}&limit=200&ll={location}&radius={radius}&limit={limit}&categoryId={cat_id}'\n",
    "s = extract(url)"
   ]
  },
  {
   "cell_type": "code",
   "execution_count": 24,
   "metadata": {},
   "outputs": [],
   "source": [
    "def locations(radius, limit,location, cat_id, category ):\n",
    "    url = f'https://api.foursquare.com/v2/venues/explore?&client_id={client_id}&client_secret={client_secret}&v={version}&limit=200&ll={location}&radius={radius}&limit={limit}&categoryId={cat_id}'\n",
    "    x = extract(url)\n",
    "    return places_df(x, category)"
   ]
  },
  {
   "cell_type": "markdown",
   "metadata": {},
   "source": [
    "### Find establishments using Foursquare to populate database"
   ]
  },
  {
   "cell_type": "code",
   "execution_count": 25,
   "metadata": {},
   "outputs": [],
   "source": [
    "# IDs\n",
    "nightlife = \"4d4b7105d754a06376d81259\"\n",
    "gym = \"4bf58dd8d48988d175941735\"\n",
    "park = \"4bf58dd8d48988d163941735\"\n",
    "hospital = \"4bf58dd8d48988d196941735\"\n",
    "elementary_school = \"4f4533804b9074f6e4fb0105\"\n",
    "high_school = \"4bf58dd8d48988d13d941735\"\n",
    "middle_school = \"4f4533814b9074f6e4fb0106\"\n",
    "clothing_store = \"4bf58dd8d48988d103951735\"\n",
    "daycare = \"4f4532974b9074f6e4fb0104\"\n",
    "grocery_store = \"4bf58dd8d48988d118951735\"\n",
    "supermarket = \"52f2ab2ebcbc57f1066b8b46\"\n",
    "pharmacy = \"4bf58dd8d48988d10f951735\"\n",
    "general_entertainment = \"4d4b7104d754a06370d81259\"\n",
    "bar = \"4bf58dd8d48988d116941735\"\n",
    "metro_station = \"4bf58dd8d48988d1fd931735\"\n",
    "train_station = \"4bf58dd8d48988d129951735\"\n",
    "bus_stop = \"52f2ab2ebcbc57f1066b8b4f\"\n",
    "elementary_school = \"4f4533804b9074f6e4fb0105\"\n",
    "high_school = \"4bf58dd8d48988d13d941735\"\n",
    "restaurant = \"4d4b7105d754a06374d81259\""
   ]
  },
  {
   "cell_type": "markdown",
   "metadata": {},
   "source": [
    "#### Use of queries_complete function "
   ]
  },
  {
   "cell_type": "code",
   "execution_count": 35,
   "metadata": {},
   "outputs": [],
   "source": [
    "def queries(loc):\n",
    "\n",
    "    return locations(5000, 100, loc, restaurants, \"r\")\n",
    "\n",
    "def queries_complete(lista, column):\n",
    "    result = list(map(queries, lista))\n",
    "    x = pd.DataFrame(result[0])\n",
    "    y = pd.DataFrame(result[1])\n",
    "    w = pd.DataFrame(result[2])\n",
    "\n",
    "    return pd.concat([x,y,w]).drop_duplicates(subset=column, keep='first')\n",
    "        "
   ]
  },
  {
   "cell_type": "code",
   "execution_count": 251,
   "metadata": {},
   "outputs": [],
   "source": [
    "lista = [(\"40.458635, -3.676851\"), (\"40.467426, -3.674765\"), (\"40.460371, -3.685486\")]"
   ]
  },
  {
   "cell_type": "code",
   "execution_count": 252,
   "metadata": {},
   "outputs": [],
   "source": [
    "def queries(loc):\n",
    "\n",
    "    return locations(1000, 100, loc, restaurant, \"Restaurants and Nightlife\")\n",
    "\n",
    "restaurants = queries_complete(lista, \"name\")"
   ]
  },
  {
   "cell_type": "code",
   "execution_count": 253,
   "metadata": {},
   "outputs": [],
   "source": [
    "def queries(loc):\n",
    "\n",
    "    return locations(1000, 100, loc, hospital, \"medical_centre\")\n",
    "\n",
    "hospitals = queries_complete(lista, \"name\")"
   ]
  },
  {
   "cell_type": "code",
   "execution_count": 254,
   "metadata": {},
   "outputs": [],
   "source": [
    "def queries(loc):\n",
    "\n",
    "    return locations(1000, 100, loc, nightlife, \"Restaurants and Nightlife\")\n",
    "\n",
    "nightlifes = queries_complete(lista, \"name\")"
   ]
  },
  {
   "cell_type": "code",
   "execution_count": 255,
   "metadata": {},
   "outputs": [],
   "source": [
    "restaurants_nightlife = pd.concat([restaurants, nightlifes])"
   ]
  },
  {
   "cell_type": "code",
   "execution_count": 256,
   "metadata": {},
   "outputs": [],
   "source": [
    "def queries(loc):\n",
    "\n",
    "    return locations(1000, 5, loc, gym, \"gym\")\n",
    "\n",
    "gyms = queries_complete(lista, \"latitude\")"
   ]
  },
  {
   "cell_type": "code",
   "execution_count": 257,
   "metadata": {},
   "outputs": [],
   "source": [
    "def queries(loc):\n",
    "\n",
    "    return locations(1000, 100, loc, supermarket, \"supermarket\")\n",
    "supermarkets = queries_complete(lista, \"latitude\")"
   ]
  },
  {
   "cell_type": "code",
   "execution_count": 258,
   "metadata": {},
   "outputs": [],
   "source": [
    "def queries(loc):\n",
    "\n",
    "    return locations(1000, 100, loc, grocery_store, \"supermarket\")\n",
    "\n",
    "grocery = queries_complete(lista, \"latitude\")"
   ]
  },
  {
   "cell_type": "code",
   "execution_count": 259,
   "metadata": {},
   "outputs": [],
   "source": [
    "supermarkets = pd.concat([supermarkets, grocery]).drop_duplicates(subset=\"latitude\", keep='first')"
   ]
  },
  {
   "cell_type": "code",
   "execution_count": 260,
   "metadata": {},
   "outputs": [],
   "source": [
    "def queries(loc):\n",
    "\n",
    "    return locations(1000, 100, loc, general_entertainment, \"general_entertainment\")\n",
    "\n",
    "ent = queries_complete(lista, \"name\")"
   ]
  },
  {
   "cell_type": "code",
   "execution_count": 261,
   "metadata": {},
   "outputs": [],
   "source": [
    "def queries(loc):\n",
    "\n",
    "    return locations(1000, 100, loc, pharmacy, \"pharmacy\")\n",
    "\n",
    "pharmacies = queries_complete(lista, \"latitude\")"
   ]
  },
  {
   "cell_type": "code",
   "execution_count": 262,
   "metadata": {},
   "outputs": [],
   "source": [
    "def queries(loc):\n",
    "\n",
    "    return locations(1000, 100, loc, metro_station, \"transport\")\n",
    "\n",
    "metro = queries_complete(lista, \"name\")"
   ]
  },
  {
   "cell_type": "code",
   "execution_count": 263,
   "metadata": {},
   "outputs": [],
   "source": [
    "def queries(loc):\n",
    "\n",
    "    return locations(1000, 100, loc, train_station, \"transport\")\n",
    "\n",
    "train = queries_complete(lista, \"latitude\")"
   ]
  },
  {
   "cell_type": "code",
   "execution_count": 264,
   "metadata": {},
   "outputs": [],
   "source": [
    "train = train[(train[\"name\"].str.contains(\"Cercanías\")) | train[\"name\"].str.contains(\"Intercambiador\") | train[\"name\"].str.contains(\"Estación\")]"
   ]
  },
  {
   "cell_type": "code",
   "execution_count": 265,
   "metadata": {},
   "outputs": [],
   "source": [
    "train = train.drop(train[(train[\"name\"].str.contains(\"Andén\")) | train[\"name\"].str.contains(\"Vía\")| train[\"name\"].str.contains(\"AVE\") | train[\"name\"].str.contains(\"VIP\")].index)"
   ]
  },
  {
   "cell_type": "code",
   "execution_count": 266,
   "metadata": {},
   "outputs": [],
   "source": [
    "transport = pd.concat([train, metro])"
   ]
  },
  {
   "cell_type": "code",
   "execution_count": 267,
   "metadata": {},
   "outputs": [],
   "source": [
    "def queries(loc):\n",
    "\n",
    "    return locations(5000, 100, loc, clothing_store, \"general_entertainment\")\n",
    "\n",
    "store = queries_complete(lista, \"latitude\")"
   ]
  },
  {
   "cell_type": "code",
   "execution_count": 268,
   "metadata": {},
   "outputs": [],
   "source": [
    "ent = pd.concat([store, ent])"
   ]
  },
  {
   "cell_type": "code",
   "execution_count": 269,
   "metadata": {},
   "outputs": [],
   "source": [
    "def queries(loc):\n",
    "\n",
    "    return locations(5000, 100, loc, park, \"park\")\n",
    "\n",
    "parks = queries_complete(lista, \"latitude\")"
   ]
  },
  {
   "cell_type": "code",
   "execution_count": 270,
   "metadata": {},
   "outputs": [],
   "source": [
    "parks = parks[(parks[\"name\"].str.contains(\"Parque\"))]"
   ]
  },
  {
   "cell_type": "code",
   "execution_count": 271,
   "metadata": {},
   "outputs": [],
   "source": [
    "def queries(loc):\n",
    "\n",
    "    return locations(5000, 100, loc, high_school, \"school\")\n",
    "\n",
    "schools = queries_complete(lista, \"latitude\")"
   ]
  },
  {
   "cell_type": "markdown",
   "metadata": {},
   "source": [
    "### Turn into geoframe and insert into MongoDB"
   ]
  },
  {
   "cell_type": "markdown",
   "metadata": {},
   "source": [
    "#### Restaurants and Nightlife"
   ]
  },
  {
   "cell_type": "markdown",
   "metadata": {},
   "source": [
    "#### Adding new data to mongo collection"
   ]
  },
  {
   "cell_type": "code",
   "execution_count": 272,
   "metadata": {},
   "outputs": [],
   "source": [
    "total_1 = pd.concat([restaurants_nightlife, schools, hospitals, ent, pharmacies, gyms, parks, supermarkets,transport])"
   ]
  },
  {
   "cell_type": "code",
   "execution_count": 273,
   "metadata": {},
   "outputs": [
    {
     "name": "stderr",
     "output_type": "stream",
     "text": [
      "c:\\users\\juanp\\anaconda3\\envs\\ironhack\\lib\\site-packages\\geopandas\\geodataframe.py:852: UserWarning: Geometry column does not contain geometry.\n",
      "  warnings.warn(\"Geometry column does not contain geometry.\")\n"
     ]
    }
   ],
   "source": [
    "total_1 = geo_frame(total_1)"
   ]
  },
  {
   "cell_type": "code",
   "execution_count": 274,
   "metadata": {},
   "outputs": [],
   "source": [
    "conjunto_8 = pd.concat([total_1, conjunto_7])"
   ]
  },
  {
   "cell_type": "code",
   "execution_count": 275,
   "metadata": {},
   "outputs": [
    {
     "data": {
      "text/plain": [
       "(4344, 6)"
      ]
     },
     "execution_count": 275,
     "metadata": {},
     "output_type": "execute_result"
    }
   ],
   "source": [
    "conjunto_8.shape"
   ]
  },
  {
   "cell_type": "code",
   "execution_count": 288,
   "metadata": {},
   "outputs": [
    {
     "data": {
      "text/plain": [
       "0"
      ]
     },
     "execution_count": 288,
     "metadata": {},
     "output_type": "execute_result"
    }
   ],
   "source": [
    "conjunto_8.duplicated(subset=\"latitude\").sum()"
   ]
  },
  {
   "cell_type": "code",
   "execution_count": 277,
   "metadata": {},
   "outputs": [],
   "source": [
    "conjunto_8 = conjunto_8.drop_duplicates(subset=\"latitude\", keep=\"first\")"
   ]
  },
  {
   "cell_type": "code",
   "execution_count": 286,
   "metadata": {},
   "outputs": [
    {
     "data": {
      "text/plain": [
       "(3850, 5)"
      ]
     },
     "execution_count": 286,
     "metadata": {},
     "output_type": "execute_result"
    }
   ],
   "source": [
    "conjunto_8.shape"
   ]
  },
  {
   "cell_type": "code",
   "execution_count": 28,
   "metadata": {},
   "outputs": [],
   "source": [
    "m = pd.read_csv(\"..\\\\data\\\\mongo.csv\")"
   ]
  },
  {
   "cell_type": "code",
   "execution_count": 32,
   "metadata": {},
   "outputs": [
    {
     "data": {
      "text/plain": [
       "0"
      ]
     },
     "execution_count": 32,
     "metadata": {},
     "output_type": "execute_result"
    }
   ],
   "source": [
    "m.duplicated(subset=\"latitude\").sum()"
   ]
  },
  {
   "cell_type": "code",
   "execution_count": 31,
   "metadata": {},
   "outputs": [],
   "source": [
    "m = m.drop_duplicates(subset=\"latitude\", keep='first')"
   ]
  },
  {
   "cell_type": "code",
   "execution_count": 284,
   "metadata": {},
   "outputs": [],
   "source": [
    "conjunto_8 = conjunto_8.drop(\"_id\", axis = 1)"
   ]
  },
  {
   "cell_type": "code",
   "execution_count": 285,
   "metadata": {},
   "outputs": [
    {
     "data": {
      "text/plain": [
       "name         0\n",
       "longitude    0\n",
       "latitude     0\n",
       "category     0\n",
       "geometry     0\n",
       "dtype: int64"
      ]
     },
     "execution_count": 285,
     "metadata": {},
     "output_type": "execute_result"
    }
   ],
   "source": [
    "conjunto_8.isnull().sum()"
   ]
  },
  {
   "cell_type": "code",
   "execution_count": 287,
   "metadata": {},
   "outputs": [
    {
     "data": {
      "text/plain": [
       "'Data succesfully added'"
      ]
     },
     "execution_count": 287,
     "metadata": {},
     "output_type": "execute_result"
    }
   ],
   "source": [
    "insert_object(conjunto_8, p)"
   ]
  },
  {
   "cell_type": "code",
   "execution_count": 289,
   "metadata": {},
   "outputs": [],
   "source": [
    "conjunto_8.to_csv(\"..\\\\data\\\\places.csv\")"
   ]
  }
 ],
 "metadata": {
  "kernelspec": {
   "display_name": "Python 3",
   "language": "python",
   "name": "python3"
  },
  "language_info": {
   "codemirror_mode": {
    "name": "ipython",
    "version": 3
   },
   "file_extension": ".py",
   "mimetype": "text/x-python",
   "name": "python",
   "nbconvert_exporter": "python",
   "pygments_lexer": "ipython3",
   "version": "3.9.0"
  }
 },
 "nbformat": 4,
 "nbformat_minor": 4
}
