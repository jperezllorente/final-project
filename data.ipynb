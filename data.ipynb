{
 "cells": [
  {
   "cell_type": "code",
   "execution_count": 2,
   "metadata": {},
   "outputs": [],
   "source": [
    "import pandas as pd\n",
    "import numpy as np\n",
    "import requests\n",
    "import regex as re\n",
    "import geopandas, shapely\n",
    "import json\n",
    "from functools import reduce\n",
    "import operator\n",
    "from pymongo import MongoClient,GEOSPHERE"
   ]
  },
  {
   "cell_type": "code",
   "execution_count": 158,
   "metadata": {},
   "outputs": [],
   "source": [
    "# Set connection with MongoDB\n",
    "conn = MongoClient(\"localhost:27017\")\n",
    "db = conn.get_database(\"final_project\")\n",
    "p = db.get_collection(\"places\")\n",
    "h = db.get_collection(\"homes\")"
   ]
  },
  {
   "cell_type": "code",
   "execution_count": 159,
   "metadata": {},
   "outputs": [
    {
     "data": {
      "text/plain": [
       "'geometry_2dsphere'"
      ]
     },
     "execution_count": 159,
     "metadata": {},
     "output_type": "execute_result"
    }
   ],
   "source": [
    "p.create_index([(\"geometry\",GEOSPHERE)])\n",
    "h.create_index([(\"geometry\",GEOSPHERE)])"
   ]
  },
  {
   "cell_type": "code",
   "execution_count": 161,
   "metadata": {},
   "outputs": [],
   "source": [
    "def insert_object(df, collection):\n",
    "    '''\n",
    "    This function inserts all the information from the dataframe we created with the previous function as a Mongodb object.\n",
    "    This object will have two field: title (name of the film or show) and reviews (array with all the reviews users have made)\n",
    "    '''\n",
    "\n",
    "    collection.insert_many(df.to_dict('records'))\n",
    "\n",
    "    return \"Data succesfully added\""
   ]
  },
  {
   "cell_type": "code",
   "execution_count": 154,
   "metadata": {},
   "outputs": [
    {
     "data": {
      "text/plain": [
       "'Data succesfully added'"
      ]
     },
     "execution_count": 154,
     "metadata": {},
     "output_type": "execute_result"
    }
   ],
   "source": [
    "insert_object(restaurants, p)"
   ]
  },
  {
   "cell_type": "markdown",
   "metadata": {},
   "source": [
    "### Getting home data and cleaning it"
   ]
  },
  {
   "cell_type": "code",
   "execution_count": 6,
   "metadata": {},
   "outputs": [],
   "source": [
    "# Download JSON file \n",
    "data = json.load(open(\"data\\\\data_vivienda.json\", 'r', encoding='utf-8'))"
   ]
  },
  {
   "cell_type": "code",
   "execution_count": 5,
   "metadata": {},
   "outputs": [
    {
     "data": {
      "text/plain": [
       "Index(['propertyCode', 'thumbnail', 'externalReference', 'numPhotos', 'floor',\n",
       "       'price', 'propertyType', 'operation', 'size', 'exterior', 'rooms',\n",
       "       'bathrooms', 'address', 'province', 'municipality', 'district',\n",
       "       'country', 'neighborhood', 'latitude', 'longitude', 'showAddress',\n",
       "       'url', 'hasVideo', 'status', 'newDevelopment', 'hasLift', 'priceByArea',\n",
       "       'detailedType', 'suggestedTexts', 'hasPlan', 'has3DTour', 'has360',\n",
       "       'parkingSpace', 'newDevelopmentFinished'],\n",
       "      dtype='object')"
      ]
     },
     "execution_count": 5,
     "metadata": {},
     "output_type": "execute_result"
    }
   ],
   "source": [
    "data_vivienda = pd.DataFrame(data)\n",
    "data_vivienda.columns"
   ]
  },
  {
   "cell_type": "code",
   "execution_count": 6,
   "metadata": {},
   "outputs": [],
   "source": [
    "data_vivienda = data_vivienda.drop([\"thumbnail\",\"propertyCode\", \"externalReference\", \"numPhotos\", \"hasVideo\", \"priceByArea\", \"detailedType\", \"country\", \"suggestedTexts\", \"hasPlan\", \"has3DTour\", \"has360\", \"newDevelopmentFinished\"], axis = 1)"
   ]
  },
  {
   "cell_type": "code",
   "execution_count": 7,
   "metadata": {},
   "outputs": [],
   "source": [
    "# I'm only interested in those houses inside Madrid, so I'm going to delete all observations that belong to another municipality\n",
    "data_vivienda = data_vivienda[data_vivienda[\"municipality\"]==\"Madrid\"]"
   ]
  },
  {
   "cell_type": "code",
   "execution_count": 8,
   "metadata": {},
   "outputs": [
    {
     "data": {
      "text/plain": [
       "floor              object\n",
       "price             float64\n",
       "propertyType       object\n",
       "operation          object\n",
       "size              float64\n",
       "exterior             bool\n",
       "rooms               int64\n",
       "bathrooms           int64\n",
       "address            object\n",
       "province           object\n",
       "municipality       object\n",
       "district           object\n",
       "neighborhood       object\n",
       "latitude          float64\n",
       "longitude         float64\n",
       "showAddress          bool\n",
       "url                object\n",
       "status             object\n",
       "newDevelopment       bool\n",
       "hasLift            object\n",
       "parkingSpace       object\n",
       "dtype: object"
      ]
     },
     "execution_count": 8,
     "metadata": {},
     "output_type": "execute_result"
    }
   ],
   "source": [
    "data_vivienda.dtypes"
   ]
  },
  {
   "cell_type": "code",
   "execution_count": 9,
   "metadata": {},
   "outputs": [
    {
     "data": {
      "text/plain": [
       "floor              108\n",
       "price                0\n",
       "propertyType         0\n",
       "operation            0\n",
       "size                 0\n",
       "exterior             0\n",
       "rooms                0\n",
       "bathrooms            0\n",
       "address              0\n",
       "province             0\n",
       "municipality         0\n",
       "district             0\n",
       "neighborhood         0\n",
       "latitude             0\n",
       "longitude            0\n",
       "showAddress          0\n",
       "url                  0\n",
       "status             556\n",
       "newDevelopment       0\n",
       "hasLift            154\n",
       "parkingSpace      6018\n",
       "dtype: int64"
      ]
     },
     "execution_count": 9,
     "metadata": {},
     "output_type": "execute_result"
    }
   ],
   "source": [
    "data_vivienda.isnull().sum()\n",
    "# Parkingspace has too many null values, and as we cannot fill the with a proper value the best option is to drop the whole column (explain in API the reason for the lack of information)\n",
    "# Let's check the floor, status and hasLift variables"
   ]
  },
  {
   "cell_type": "code",
   "execution_count": 10,
   "metadata": {},
   "outputs": [],
   "source": [
    "data_vivienda = data_vivienda.drop(\"parkingSpace\", axis = 1)"
   ]
  },
  {
   "cell_type": "code",
   "execution_count": 74,
   "metadata": {},
   "outputs": [
    {
     "data": {
      "text/plain": [
       "good              8000\n",
       "renew               24\n",
       "newdevelopment       8\n",
       "Name: status, dtype: int64"
      ]
     },
     "execution_count": 74,
     "metadata": {},
     "output_type": "execute_result"
    }
   ],
   "source": [
    "data_vivienda.status.value_counts()\n",
    "# In this case we are going to fill the null values with 'unspecified'"
   ]
  },
  {
   "cell_type": "code",
   "execution_count": 11,
   "metadata": {},
   "outputs": [],
   "source": [
    "# There a couple of values that are not numbers, so I'm going to change them to a value that can be valid. In this case '0', as after looking a Idelista we can assume they are street level homes\n",
    "data_vivienda.floor = data_vivienda.floor.replace([\"bj\",\"en\",\"st\",\"ss\"], \"0\", regex = True)"
   ]
  },
  {
   "cell_type": "code",
   "execution_count": 12,
   "metadata": {},
   "outputs": [],
   "source": [
    "data_vivienda.status = data_vivienda.status.fillna('unspecified')"
   ]
  },
  {
   "cell_type": "code",
   "execution_count": 13,
   "metadata": {},
   "outputs": [],
   "source": [
    "data_vivienda.hasLift = data_vivienda.hasLift.fillna(\"unspecified\")"
   ]
  },
  {
   "cell_type": "code",
   "execution_count": 14,
   "metadata": {},
   "outputs": [],
   "source": [
    "data_vivienda = data_vivienda.dropna(how = 'any')"
   ]
  },
  {
   "cell_type": "code",
   "execution_count": 68,
   "metadata": {},
   "outputs": [],
   "source": [
    "def geo_frame(df):\n",
    "    df = geopandas.GeoDataFrame(df, geometry=geopandas.points_from_xy(df.latitude, df.longitude))\n",
    "    df['geometry']=df['geometry'].apply(lambda x:shapely.geometry.mapping(x))\n",
    "    return df"
   ]
  },
  {
   "cell_type": "code",
   "execution_count": 17,
   "metadata": {},
   "outputs": [
    {
     "name": "stderr",
     "output_type": "stream",
     "text": [
      "c:\\users\\juanp\\anaconda3\\envs\\ironhack\\lib\\site-packages\\geopandas\\geodataframe.py:852: UserWarning: Geometry column does not contain geometry.\n",
      "  warnings.warn(\"Geometry column does not contain geometry.\")\n"
     ]
    }
   ],
   "source": [
    "data_vivienda = geo_frame(data_vivienda)"
   ]
  },
  {
   "cell_type": "code",
   "execution_count": 16,
   "metadata": {},
   "outputs": [],
   "source": [
    "# As I have limited resources, and the number of queries I can do in all APIs is limited, I'm going to focus on three district with the more number of houses available\n",
    "\n",
    "test = data_vivienda[data_vivienda.groupby('district').district.transform('count')>800]"
   ]
  },
  {
   "cell_type": "code",
   "execution_count": 17,
   "metadata": {},
   "outputs": [
    {
     "data": {
      "text/plain": [
       "Centro       1741\n",
       "Salamanca    1727\n",
       "Chamberí      972\n",
       "Chamartín     813\n",
       "Name: district, dtype: int64"
      ]
     },
     "execution_count": 17,
     "metadata": {},
     "output_type": "execute_result"
    }
   ],
   "source": [
    "test.district.value_counts()"
   ]
  },
  {
   "cell_type": "code",
   "execution_count": 414,
   "metadata": {},
   "outputs": [
    {
     "data": {
      "text/plain": [
       "'Data succesfully added'"
      ]
     },
     "execution_count": 414,
     "metadata": {},
     "output_type": "execute_result"
    }
   ],
   "source": [
    "insert_object(test, h)"
   ]
  },
  {
   "cell_type": "code",
   "execution_count": 18,
   "metadata": {},
   "outputs": [],
   "source": [
    "test.to_csv(\"data\\\\test.csv\")"
   ]
  },
  {
   "cell_type": "markdown",
   "metadata": {},
   "source": [
    "### Google API"
   ]
  },
  {
   "cell_type": "code",
   "execution_count": 97,
   "metadata": {},
   "outputs": [],
   "source": [
    "my_key = open(\"keys\\\\google_key.txt\").readlines()[0]"
   ]
  },
  {
   "cell_type": "code",
   "execution_count": 7,
   "metadata": {},
   "outputs": [],
   "source": [
    "response = requests.get(url)"
   ]
  },
  {
   "cell_type": "markdown",
   "metadata": {},
   "source": [
    "#### Find places with google API"
   ]
  },
  {
   "cell_type": "code",
   "execution_count": 98,
   "metadata": {},
   "outputs": [],
   "source": [
    "base_url = \"https://maps.googleapis.com/maps/api/place/nearbysearch/json?\""
   ]
  },
  {
   "cell_type": "code",
   "execution_count": 99,
   "metadata": {},
   "outputs": [],
   "source": [
    "location = '40.446067,-3.691247' # I have picked Nuevos Minesterios as center of all queries\n",
    "radius = '10000'\n",
    "keyword = \"bus%20stop\"\n",
    "page_token = my_key\n",
    "url = f\"{base_url}location={location}&radius={radius}&keyword={keyword}&key={my_key}\""
   ]
  },
  {
   "cell_type": "markdown",
   "metadata": {},
   "source": [
    "### FOURSQUARE API"
   ]
  },
  {
   "cell_type": "code",
   "execution_count": 16,
   "metadata": {},
   "outputs": [],
   "source": [
    "client_id = open(\"keys\\\\foursquare_key.txt\").readlines()[0]\n",
    "client_secret = open(\"keys\\\\foursquare_key.txt\").readlines()[1]\n",
    "version = '20180323'"
   ]
  },
  {
   "cell_type": "code",
   "execution_count": 8,
   "metadata": {},
   "outputs": [],
   "source": [
    "def extract(url):\n",
    "    \n",
    "    results = requests.get(url)\n",
    "\n",
    "    code = json.loads(results.text)\n",
    "\n",
    "    decoding = code.get(\"response\")\n",
    "\n",
    "    decoded = decoding.get(\"groups\")[0]\n",
    "\n",
    "    return decoded.get(\"items\")"
   ]
  },
  {
   "cell_type": "code",
   "execution_count": 278,
   "metadata": {},
   "outputs": [],
   "source": [
    "def getFromDict(diccionario,objeto):\n",
    "    return reduce(operator.getitem,objeto,diccionario)\n",
    "\n",
    "def places_df(frame,category):\n",
    "    \n",
    "    nombre = [\"venue\",\"name\"]\n",
    "    latitud = [\"venue\", \"location\",\"lat\"]\n",
    "    longitud = [\"venue\",\"location\",\"lng\"]\n",
    "    barrio = [\"venue\", \"location\", \"neighborhood\"]\n",
    "    tipo = [\"venue\", \"categories\", \"pluralName\"]\n",
    "    x = []\n",
    "    \n",
    "    for diccionario in frame:\n",
    "        lista = {}\n",
    "        lista[\"name\"] = getFromDict(diccionario,nombre)\n",
    "        lista[\"longitude\"] = getFromDict(diccionario,longitud)\n",
    "        lista[\"latitude\"] = getFromDict(diccionario,latitud)\n",
    "\n",
    "        \n",
    "        x.append(lista)\n",
    "        \n",
    "        df = pd.DataFrame(x)\n",
    "\n",
    "    c = [category for _ in range(len(frame))]\n",
    "        \n",
    "    df[\"category\"] = c\n",
    "    \n",
    "    return df"
   ]
  },
  {
   "cell_type": "code",
   "execution_count": 285,
   "metadata": {},
   "outputs": [],
   "source": [
    "location = \"40.462781, -3.686737\"\n",
    "limit = 10\n",
    "cat_id = \"4bf58dd8d48988d116941735\""
   ]
  },
  {
   "cell_type": "code",
   "execution_count": 17,
   "metadata": {},
   "outputs": [],
   "source": [
    "def locations(radius, limit,location, cat_id, category ):\n",
    "    url = f'https://api.foursquare.com/v2/venues/explore?&client_id={client_id}&client_secret={client_secret}&v={version}&limit=200&ll={location}&radius={radius}&limit={limit}&categoryId={cat_id}'\n",
    "    x = extract(url)\n",
    "    return places_df(x, category)"
   ]
  },
  {
   "cell_type": "markdown",
   "metadata": {},
   "source": [
    "### Find establishments using Foursquare to populate database"
   ]
  },
  {
   "cell_type": "code",
   "execution_count": 274,
   "metadata": {},
   "outputs": [],
   "source": [
    "# IDs\n",
    "nightlife = \"4d4b7105d754a06376d81259\"\n",
    "gym = \"4bf58dd8d48988d175941735\"\n",
    "park = \"4bf58dd8d48988d163941735\"\n",
    "hospital = \"4bf58dd8d48988d196941735\"\n",
    "elementary_school = \"4f4533804b9074f6e4fb0105\"\n",
    "high_school = \"4bf58dd8d48988d13d941735\"\n",
    "middle_school = \"4f4533814b9074f6e4fb0106\"\n",
    "clothing_store = \"4bf58dd8d48988d103951735\"\n",
    "daycare = \"4f4532974b9074f6e4fb0104\"\n",
    "grocery_store = \"4bf58dd8d48988d118951735\"\n",
    "supermarket = \"52f2ab2ebcbc57f1066b8b46\"\n",
    "pharmacy = \"4bf58dd8d48988d10f951735\"\n",
    "general_entertainment = \"4d4b7104d754a06370d81259\"\n",
    "bar = \"4bf58dd8d48988d116941735\"\n",
    "metro_station = \"4bf58dd8d48988d1fd931735\"\n",
    "train_station = \"4bf58dd8d48988d129951735\"\n",
    "bus_stop = \"52f2ab2ebcbc57f1066b8b4f\"\n",
    "elementary_school = \"4f4533804b9074f6e4fb0105\"\n",
    "high_school = \"4bf58dd8d48988d13d941735\"\n",
    "restaurant = \"4d4b7105d754a06374d81259\""
   ]
  },
  {
   "cell_type": "markdown",
   "metadata": {},
   "source": [
    "#### Use of queries_complete function "
   ]
  },
  {
   "cell_type": "code",
   "execution_count": 188,
   "metadata": {},
   "outputs": [],
   "source": [
    "def queries(loc):\n",
    "\n",
    "    return locations(5000, 100, loc, restaurants, \"restaurant\")\n",
    "\n",
    "def queries_complete(lista, column):\n",
    "    result = list(map(queries, lista))\n",
    "    x = pd.DataFrame(result[0])\n",
    "    y = pd.DataFrame(result[1])\n",
    "    w = pd.DataFrame(result[2])\n",
    "\n",
    "    return pd.concat([x,y,w]).drop_duplicates(subset=column, keep='first')\n",
    "        "
   ]
  },
  {
   "cell_type": "code",
   "execution_count": 180,
   "metadata": {},
   "outputs": [],
   "source": [
    "lista = [(\"40.462781, -3.686737\"), (\"40.432751, -3.683338\"), (\"40.412951, -3.707111\")]"
   ]
  },
  {
   "cell_type": "code",
   "execution_count": 149,
   "metadata": {},
   "outputs": [],
   "source": [
    "restaurants = queries_complete(lista, \"name\")"
   ]
  },
  {
   "cell_type": "code",
   "execution_count": 186,
   "metadata": {},
   "outputs": [],
   "source": [
    "def queries(loc):\n",
    "\n",
    "    return locations(5000, 100, loc, hospital, \"medical_centre\")\n",
    "\n",
    "hospitals = queries_complete(lista, \"name\")"
   ]
  },
  {
   "cell_type": "code",
   "execution_count": 201,
   "metadata": {},
   "outputs": [],
   "source": [
    "def queries(loc):\n",
    "\n",
    "    return locations(5000, 100, loc, nightlife, \"nightlife\")\n",
    "\n",
    "nightlife = queries_complete(lista, \"name\")"
   ]
  },
  {
   "cell_type": "code",
   "execution_count": 276,
   "metadata": {},
   "outputs": [],
   "source": [
    "def queries(loc):\n",
    "\n",
    "    return locations(5000, 5, loc, gym, \"gym\")\n",
    "\n",
    "gym = queries_complete(lista, \"latitude\")"
   ]
  },
  {
   "cell_type": "code",
   "execution_count": 207,
   "metadata": {},
   "outputs": [],
   "source": [
    "def queries(loc):\n",
    "\n",
    "    return locations(5000, 100, loc, supermarket, \"supermarket\")\n",
    "supermarket = queries_complete(lista, \"latitude\")"
   ]
  },
  {
   "cell_type": "code",
   "execution_count": 209,
   "metadata": {},
   "outputs": [],
   "source": [
    "def queries(loc):\n",
    "\n",
    "    return locations(5000, 100, loc, grocery_store, \"supermarket\")\n",
    "\n",
    "grocery = queries_complete(lista, \"latitude\")"
   ]
  },
  {
   "cell_type": "code",
   "execution_count": 246,
   "metadata": {},
   "outputs": [],
   "source": [
    "supermarkets = pd.concat([supermarket, grocery]).drop_duplicates(subset=\"latitude\", keep='first')"
   ]
  },
  {
   "cell_type": "code",
   "execution_count": 212,
   "metadata": {},
   "outputs": [],
   "source": [
    "def queries(loc):\n",
    "\n",
    "    return locations(5000, 100, loc, general_entertainment, \"general_entertainment\")\n",
    "\n",
    "ent = queries_complete(lista, \"name\")"
   ]
  },
  {
   "cell_type": "code",
   "execution_count": 214,
   "metadata": {},
   "outputs": [],
   "source": [
    "def queries(loc):\n",
    "\n",
    "    return locations(5000, 100, loc, pharmacy, \"pharmacy\")\n",
    "\n",
    "pharmacy = queries_complete(lista, \"latitude\")"
   ]
  },
  {
   "cell_type": "code",
   "execution_count": 218,
   "metadata": {},
   "outputs": [],
   "source": [
    "def queries(loc):\n",
    "\n",
    "    return locations(5000, 100, loc, metro_station, \"transport\")\n",
    "\n",
    "metro = queries_complete(lista, \"name\")"
   ]
  },
  {
   "cell_type": "code",
   "execution_count": 219,
   "metadata": {},
   "outputs": [],
   "source": [
    "def queries(loc):\n",
    "\n",
    "    return locations(5000, 100, loc, train_station, \"transport\")\n",
    "\n",
    "train = queries_complete(lista, \"name\")"
   ]
  },
  {
   "cell_type": "code",
   "execution_count": 223,
   "metadata": {},
   "outputs": [],
   "source": [
    "train = train[(train[\"name\"].str.contains(\"Cercanías\")) | train[\"name\"].str.contains(\"Intercambiador\") | train[\"name\"].str.contains(\"Estación\")]"
   ]
  },
  {
   "cell_type": "code",
   "execution_count": 227,
   "metadata": {},
   "outputs": [],
   "source": [
    "train = train.drop(train[(train[\"name\"].str.contains(\"Andén\")) | train[\"name\"].str.contains(\"Vía\")| train[\"name\"].str.contains(\"AVE\") | train[\"name\"].str.contains(\"VIP\")].index)"
   ]
  },
  {
   "cell_type": "code",
   "execution_count": 254,
   "metadata": {},
   "outputs": [],
   "source": [
    "transport = pd.concat([train, metro])"
   ]
  },
  {
   "cell_type": "code",
   "execution_count": 231,
   "metadata": {},
   "outputs": [],
   "source": [
    "def queries(loc):\n",
    "\n",
    "    return locations(5000, 100, loc, clothing_store, \"clothing_store\")\n",
    "\n",
    "store = queries_complete(lista, \"latitude\")"
   ]
  },
  {
   "cell_type": "code",
   "execution_count": 233,
   "metadata": {},
   "outputs": [],
   "source": [
    "def queries(loc):\n",
    "\n",
    "    return locations(5000, 100, loc, park, \"park\")\n",
    "\n",
    "parks = queries_complete(lista, \"latitude\")"
   ]
  },
  {
   "cell_type": "code",
   "execution_count": 237,
   "metadata": {},
   "outputs": [],
   "source": [
    "parks = parks[(parks[\"name\"].str.contains(\"Parque\"))]"
   ]
  },
  {
   "cell_type": "markdown",
   "metadata": {},
   "source": [
    "#### Joining dataframes "
   ]
  },
  {
   "cell_type": "code",
   "execution_count": 538,
   "metadata": {},
   "outputs": [],
   "source": [
    "total = pd.concat([conjunto, night, gyms, hosp, general, subs, ])"
   ]
  },
  {
   "cell_type": "code",
   "execution_count": 76,
   "metadata": {},
   "outputs": [],
   "source": [
    "result = requests.get(\"https://datos.madrid.es/egob/catalogo/201132-0-museos.xml\")"
   ]
  },
  {
   "cell_type": "markdown",
   "metadata": {},
   "source": [
    "### Turn into geoframe and insert into MongoDB"
   ]
  },
  {
   "cell_type": "code",
   "execution_count": null,
   "metadata": {},
   "outputs": [],
   "source": [
    "total = geo_frame(total)"
   ]
  },
  {
   "cell_type": "code",
   "execution_count": 541,
   "metadata": {},
   "outputs": [
    {
     "data": {
      "text/plain": [
       "'Data succesfully added'"
      ]
     },
     "execution_count": 541,
     "metadata": {},
     "output_type": "execute_result"
    }
   ],
   "source": [
    "insert_object(total, p)"
   ]
  },
  {
   "cell_type": "markdown",
   "metadata": {},
   "source": [
    "#### Schools"
   ]
  },
  {
   "cell_type": "code",
   "execution_count": 69,
   "metadata": {},
   "outputs": [
    {
     "name": "stderr",
     "output_type": "stream",
     "text": [
      "c:\\users\\juanp\\anaconda3\\envs\\ironhack\\lib\\site-packages\\geopandas\\geodataframe.py:852: UserWarning: Geometry column does not contain geometry.\n",
      "  warnings.warn(\"Geometry column does not contain geometry.\")\n"
     ]
    }
   ],
   "source": [
    "schools = geo_frame(schools)"
   ]
  },
  {
   "cell_type": "code",
   "execution_count": 197,
   "metadata": {},
   "outputs": [
    {
     "data": {
      "text/plain": [
       "'Data succesfully added'"
      ]
     },
     "execution_count": 197,
     "metadata": {},
     "output_type": "execute_result"
    }
   ],
   "source": [
    "insert_object(schools,p)"
   ]
  },
  {
   "cell_type": "markdown",
   "metadata": {},
   "source": [
    "#### Restaurants"
   ]
  },
  {
   "cell_type": "code",
   "execution_count": 166,
   "metadata": {},
   "outputs": [
    {
     "name": "stderr",
     "output_type": "stream",
     "text": [
      "c:\\users\\juanp\\anaconda3\\envs\\ironhack\\lib\\site-packages\\geopandas\\geodataframe.py:852: UserWarning: Geometry column does not contain geometry.\n",
      "  warnings.warn(\"Geometry column does not contain geometry.\")\n"
     ]
    }
   ],
   "source": [
    "restaurants = geo_frame(restaurants)"
   ]
  },
  {
   "cell_type": "code",
   "execution_count": 198,
   "metadata": {},
   "outputs": [
    {
     "data": {
      "text/plain": [
       "'Data succesfully added'"
      ]
     },
     "execution_count": 198,
     "metadata": {},
     "output_type": "execute_result"
    }
   ],
   "source": [
    "insert_object(restaurants,p)"
   ]
  },
  {
   "cell_type": "markdown",
   "metadata": {},
   "source": [
    "#### Hospitals"
   ]
  },
  {
   "cell_type": "code",
   "execution_count": 190,
   "metadata": {},
   "outputs": [
    {
     "name": "stderr",
     "output_type": "stream",
     "text": [
      "c:\\users\\juanp\\anaconda3\\envs\\ironhack\\lib\\site-packages\\geopandas\\geodataframe.py:852: UserWarning: Geometry column does not contain geometry.\n",
      "  warnings.warn(\"Geometry column does not contain geometry.\")\n"
     ]
    }
   ],
   "source": [
    "hospitals = geo_frame(hospitals)"
   ]
  },
  {
   "cell_type": "code",
   "execution_count": 199,
   "metadata": {},
   "outputs": [
    {
     "data": {
      "text/plain": [
       "'Data succesfully added'"
      ]
     },
     "execution_count": 199,
     "metadata": {},
     "output_type": "execute_result"
    }
   ],
   "source": [
    "insert_object(hospitals,p)"
   ]
  },
  {
   "cell_type": "markdown",
   "metadata": {},
   "source": [
    "#### Nightlife"
   ]
  },
  {
   "cell_type": "code",
   "execution_count": 240,
   "metadata": {},
   "outputs": [
    {
     "name": "stderr",
     "output_type": "stream",
     "text": [
      "c:\\users\\juanp\\anaconda3\\envs\\ironhack\\lib\\site-packages\\geopandas\\geodataframe.py:852: UserWarning: Geometry column does not contain geometry.\n",
      "  warnings.warn(\"Geometry column does not contain geometry.\")\n"
     ]
    }
   ],
   "source": [
    "nightlife = geo_frame(nightlife)"
   ]
  },
  {
   "cell_type": "code",
   "execution_count": 242,
   "metadata": {},
   "outputs": [
    {
     "data": {
      "text/plain": [
       "'Data succesfully added'"
      ]
     },
     "execution_count": 242,
     "metadata": {},
     "output_type": "execute_result"
    }
   ],
   "source": [
    "insert_object(nightlife, p)"
   ]
  },
  {
   "cell_type": "markdown",
   "metadata": {},
   "source": [
    "#### Supermarkets and grocery stores"
   ]
  },
  {
   "cell_type": "code",
   "execution_count": 248,
   "metadata": {},
   "outputs": [
    {
     "name": "stderr",
     "output_type": "stream",
     "text": [
      "c:\\users\\juanp\\anaconda3\\envs\\ironhack\\lib\\site-packages\\geopandas\\geodataframe.py:852: UserWarning: Geometry column does not contain geometry.\n",
      "  warnings.warn(\"Geometry column does not contain geometry.\")\n"
     ]
    }
   ],
   "source": [
    "supermarkets = geo_frame(supermarkets)"
   ]
  },
  {
   "cell_type": "code",
   "execution_count": 250,
   "metadata": {},
   "outputs": [
    {
     "data": {
      "text/plain": [
       "'Data succesfully added'"
      ]
     },
     "execution_count": 250,
     "metadata": {},
     "output_type": "execute_result"
    }
   ],
   "source": [
    "insert_object(supermarkets, p)"
   ]
  },
  {
   "cell_type": "markdown",
   "metadata": {},
   "source": [
    "#### Parks"
   ]
  },
  {
   "cell_type": "code",
   "execution_count": 251,
   "metadata": {},
   "outputs": [
    {
     "name": "stderr",
     "output_type": "stream",
     "text": [
      "c:\\users\\juanp\\anaconda3\\envs\\ironhack\\lib\\site-packages\\geopandas\\geodataframe.py:852: UserWarning: Geometry column does not contain geometry.\n",
      "  warnings.warn(\"Geometry column does not contain geometry.\")\n"
     ]
    }
   ],
   "source": [
    "parks = geo_frame(parks)"
   ]
  },
  {
   "cell_type": "code",
   "execution_count": 253,
   "metadata": {},
   "outputs": [
    {
     "data": {
      "text/plain": [
       "'Data succesfully added'"
      ]
     },
     "execution_count": 253,
     "metadata": {},
     "output_type": "execute_result"
    }
   ],
   "source": [
    "insert_object(parks, p)"
   ]
  },
  {
   "cell_type": "markdown",
   "metadata": {},
   "source": [
    "#### Transport"
   ]
  },
  {
   "cell_type": "code",
   "execution_count": 255,
   "metadata": {},
   "outputs": [
    {
     "name": "stderr",
     "output_type": "stream",
     "text": [
      "c:\\users\\juanp\\anaconda3\\envs\\ironhack\\lib\\site-packages\\geopandas\\geodataframe.py:852: UserWarning: Geometry column does not contain geometry.\n",
      "  warnings.warn(\"Geometry column does not contain geometry.\")\n"
     ]
    }
   ],
   "source": [
    "transport = geo_frame(transport)"
   ]
  },
  {
   "cell_type": "code",
   "execution_count": 256,
   "metadata": {},
   "outputs": [
    {
     "data": {
      "text/plain": [
       "'Data succesfully added'"
      ]
     },
     "execution_count": 256,
     "metadata": {},
     "output_type": "execute_result"
    }
   ],
   "source": [
    "insert_object(transport,p)"
   ]
  },
  {
   "cell_type": "markdown",
   "metadata": {},
   "source": [
    "#### Clotjing store"
   ]
  },
  {
   "cell_type": "code",
   "execution_count": 257,
   "metadata": {},
   "outputs": [
    {
     "name": "stderr",
     "output_type": "stream",
     "text": [
      "c:\\users\\juanp\\anaconda3\\envs\\ironhack\\lib\\site-packages\\geopandas\\geodataframe.py:852: UserWarning: Geometry column does not contain geometry.\n",
      "  warnings.warn(\"Geometry column does not contain geometry.\")\n"
     ]
    }
   ],
   "source": [
    "store = geo_frame(store)"
   ]
  },
  {
   "cell_type": "code",
   "execution_count": 258,
   "metadata": {},
   "outputs": [
    {
     "data": {
      "text/plain": [
       "'Data succesfully added'"
      ]
     },
     "execution_count": 258,
     "metadata": {},
     "output_type": "execute_result"
    }
   ],
   "source": [
    "insert_object(store, p)"
   ]
  },
  {
   "cell_type": "markdown",
   "metadata": {},
   "source": [
    "#### General entertainment"
   ]
  },
  {
   "cell_type": "code",
   "execution_count": 259,
   "metadata": {},
   "outputs": [
    {
     "name": "stderr",
     "output_type": "stream",
     "text": [
      "c:\\users\\juanp\\anaconda3\\envs\\ironhack\\lib\\site-packages\\geopandas\\geodataframe.py:852: UserWarning: Geometry column does not contain geometry.\n",
      "  warnings.warn(\"Geometry column does not contain geometry.\")\n"
     ]
    }
   ],
   "source": [
    "ent = geo_frame(ent)"
   ]
  },
  {
   "cell_type": "code",
   "execution_count": 260,
   "metadata": {},
   "outputs": [
    {
     "data": {
      "text/plain": [
       "'Data succesfully added'"
      ]
     },
     "execution_count": 260,
     "metadata": {},
     "output_type": "execute_result"
    }
   ],
   "source": [
    "insert_object(ent,p)"
   ]
  },
  {
   "cell_type": "markdown",
   "metadata": {},
   "source": [
    "#### Pharmacy"
   ]
  },
  {
   "cell_type": "code",
   "execution_count": 261,
   "metadata": {},
   "outputs": [
    {
     "name": "stderr",
     "output_type": "stream",
     "text": [
      "c:\\users\\juanp\\anaconda3\\envs\\ironhack\\lib\\site-packages\\geopandas\\geodataframe.py:852: UserWarning: Geometry column does not contain geometry.\n",
      "  warnings.warn(\"Geometry column does not contain geometry.\")\n"
     ]
    }
   ],
   "source": [
    "pharmacy = geo_frame(pharmacy)"
   ]
  },
  {
   "cell_type": "code",
   "execution_count": 263,
   "metadata": {},
   "outputs": [
    {
     "data": {
      "text/plain": [
       "'Data succesfully added'"
      ]
     },
     "execution_count": 263,
     "metadata": {},
     "output_type": "execute_result"
    }
   ],
   "source": [
    "insert_object(pharmacy,p)"
   ]
  },
  {
   "cell_type": "markdown",
   "metadata": {},
   "source": [
    "#### Gym"
   ]
  },
  {
   "cell_type": "code",
   "execution_count": 264,
   "metadata": {},
   "outputs": [
    {
     "name": "stderr",
     "output_type": "stream",
     "text": [
      "c:\\users\\juanp\\anaconda3\\envs\\ironhack\\lib\\site-packages\\geopandas\\geodataframe.py:852: UserWarning: Geometry column does not contain geometry.\n",
      "  warnings.warn(\"Geometry column does not contain geometry.\")\n"
     ]
    }
   ],
   "source": [
    "gym = geo_frame(gym)"
   ]
  },
  {
   "cell_type": "code",
   "execution_count": 265,
   "metadata": {},
   "outputs": [
    {
     "data": {
      "text/plain": [
       "'Data succesfully added'"
      ]
     },
     "execution_count": 265,
     "metadata": {},
     "output_type": "execute_result"
    }
   ],
   "source": [
    "insert_object(gym,p)"
   ]
  },
  {
   "cell_type": "code",
   "execution_count": null,
   "metadata": {},
   "outputs": [],
   "source": []
  },
  {
   "cell_type": "code",
   "execution_count": null,
   "metadata": {},
   "outputs": [],
   "source": []
  },
  {
   "cell_type": "code",
   "execution_count": null,
   "metadata": {},
   "outputs": [],
   "source": []
  },
  {
   "cell_type": "code",
   "execution_count": null,
   "metadata": {},
   "outputs": [],
   "source": []
  }
 ],
 "metadata": {
  "kernelspec": {
   "display_name": "Python 3",
   "language": "python",
   "name": "python3"
  },
  "language_info": {
   "codemirror_mode": {
    "name": "ipython",
    "version": 3
   },
   "file_extension": ".py",
   "mimetype": "text/x-python",
   "name": "python",
   "nbconvert_exporter": "python",
   "pygments_lexer": "ipython3",
   "version": "3.9.0"
  }
 },
 "nbformat": 4,
 "nbformat_minor": 4
}
