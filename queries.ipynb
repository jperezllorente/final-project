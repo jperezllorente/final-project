{
 "cells": [
  {
   "cell_type": "code",
   "execution_count": 1,
   "metadata": {},
   "outputs": [],
   "source": [
    "import pandas as pd\n",
    "import numpy as np\n",
    "import requests\n",
    "import geopandas, shapely\n",
    "from pymongo import MongoClient,GEOSPHERE"
   ]
  },
  {
   "cell_type": "code",
   "execution_count": 2,
   "metadata": {},
   "outputs": [],
   "source": [
    "def geo_frame(df):\n",
    "    df = geopandas.GeoDataFrame(df, geometry=geopandas.points_from_xy(df.latitude, df.longitude))\n",
    "    df['geometry']=df['geometry'].apply(lambda x:shapely.geometry.mapping(x))\n",
    "    return df"
   ]
  },
  {
   "cell_type": "markdown",
   "metadata": {},
   "source": [
    "### Trying geo queries with differente collections"
   ]
  },
  {
   "cell_type": "code",
   "execution_count": 32,
   "metadata": {},
   "outputs": [],
   "source": [
    "data = pd.read_csv(\"data\\\\test.csv\")"
   ]
  },
  {
   "cell_type": "code",
   "execution_count": 35,
   "metadata": {},
   "outputs": [
    {
     "name": "stderr",
     "output_type": "stream",
     "text": [
      "c:\\users\\juanp\\anaconda3\\envs\\ironhack\\lib\\site-packages\\geopandas\\geodataframe.py:852: UserWarning: Geometry column does not contain geometry.\n",
      "  warnings.warn(\"Geometry column does not contain geometry.\")\n"
     ]
    }
   ],
   "source": [
    "data = data = geo_frame(data)"
   ]
  },
  {
   "cell_type": "code",
   "execution_count": 5,
   "metadata": {},
   "outputs": [],
   "source": [
    "# Set connection with MongoDB\n",
    "conn = MongoClient(\"localhost:27017\")\n",
    "db = conn.get_database(\"final_project\")\n",
    "p = db.get_collection(\"places\")\n",
    "h = db.get_collection(\"homes\")"
   ]
  },
  {
   "cell_type": "code",
   "execution_count": 43,
   "metadata": {},
   "outputs": [],
   "source": [
    "def lugar(coords, categ):\n",
    "    return  list(p.find(\n",
    "        {\"category\":categ,\"geometry\": {\"$near\": {\n",
    "            \"$geometry\": {\"type\": \"Point\" ,\n",
    "             \"coordinates\": coords\n",
    "       }, \"$maxDistance\": 500}}},{\"name\":1, \"longitude\":1, \"latitude\":1, \"category\":1}\n",
    "    ))\n",
    "    "
   ]
  },
  {
   "cell_type": "code",
   "execution_count": 124,
   "metadata": {},
   "outputs": [],
   "source": [
    "def sum_cat(coords):\n",
    "    result = coords,len(lugar(coords, \"gym\"))\n",
    "    if result[1] > 0:\n",
    "        r = h.find_one({\"latitude\":result[0][0],\"longitude\":result[0][1]},{\"_id\":0,\"province\":0, \"municipality\":0, \"showAdress\":0, \"geometry\":0})\n",
    "        return r\n",
    "    else:\n",
    "        pass"
   ]
  },
  {
   "cell_type": "code",
   "execution_count": 74,
   "metadata": {},
   "outputs": [],
   "source": [
    "def sum_gym(coords):\n",
    "    result = coords,len(lugar(coords,\"gym\"))\n",
    "    if result[1] > 7:\n",
    "        r = h.find_one({\"latitude\":result[0][0],\"longitude\":result[0][1]},{\"_id\":0,\"province\":0, \"municipality\":0, \"showAdress\":0, \"geometry\":0})\n",
    "        return r\n",
    "    else:\n",
    "        pass"
   ]
  },
  {
   "cell_type": "code",
   "execution_count": 46,
   "metadata": {},
   "outputs": [],
   "source": [
    "def sum_superm(coords):\n",
    "    result = coords,len(lugar(coords, \"supermarket\"))\n",
    "    if result[1] > 5:\n",
    "        r = h.find_one({\"latitude\":result[0][0],\"longitude\":result[0][1]},{\"_id\":0,\"province\":0, \"municipality\":0, \"showAdress\":0, \"geometry\":0})\n",
    "        return r\n",
    "    else:\n",
    "        pass"
   ]
  },
  {
   "cell_type": "code",
   "execution_count": 47,
   "metadata": {},
   "outputs": [],
   "source": [
    "def sum_medical(coords):\n",
    "    result = coords,len(lugar(coords, \"medical_centre\"))\n",
    "    if result[1] > 5:\n",
    "        r = h.find_one({\"latitude\":result[0][0],\"longitude\":result[0][1]},{\"_id\":0,\"province\":0, \"municipality\":0, \"showAdress\":0, \"geometry\":0})\n",
    "        return r\n",
    "    else:\n",
    "        pass"
   ]
  },
  {
   "cell_type": "code",
   "execution_count": 48,
   "metadata": {},
   "outputs": [],
   "source": [
    "def sum_nightlife(coords):\n",
    "    result = coords,len(lugar(coords, \"nightlife\"))\n",
    "    if result[1] > 5:\n",
    "        r = h.find_one({\"latitude\":result[0][0],\"longitude\":result[0][1]},{\"_id\":0,\"province\":0, \"municipality\":0, \"showAdress\":0, \"geometry\":0})\n",
    "        return r\n",
    "    else:\n",
    "        pass"
   ]
  },
  {
   "cell_type": "code",
   "execution_count": 49,
   "metadata": {},
   "outputs": [],
   "source": [
    "def sum_transport(coords):\n",
    "    result = coords,len(lugar(coords, \"transport\"))\n",
    "    if result[1] > 5:\n",
    "        r = h.find_one({\"latitude\":result[0][0],\"longitude\":result[0][1]},{\"_id\":0,\"province\":0, \"municipality\":0, \"showAdress\":0, \"geometry\":0})\n",
    "        return r\n",
    "    else:\n",
    "        pass"
   ]
  },
  {
   "cell_type": "code",
   "execution_count": 50,
   "metadata": {},
   "outputs": [],
   "source": [
    "def sum_ent(coords):\n",
    "    result = coords,len(lugar(coords, \"general_entertainment\"))\n",
    "    if result[1] > 5:\n",
    "        r = h.find_one({\"latitude\":result[0][0],\"longitude\":result[0][1]},{\"_id\":0,\"province\":0, \"municipality\":0, \"showAdress\":0, \"geometry\":0})\n",
    "        return r\n",
    "    else:\n",
    "        pass"
   ]
  },
  {
   "cell_type": "code",
   "execution_count": 51,
   "metadata": {},
   "outputs": [],
   "source": [
    "def sum_store(coords):\n",
    "    result = coords,len(lugar(coords, \"clothing_stores\"))\n",
    "    if result[1] > 5:\n",
    "        r = h.find_one({\"latitude\":result[0][0],\"longitude\":result[0][1]},{\"_id\":0,\"province\":0, \"municipality\":0, \"showAdress\":0, \"geometry\":0})\n",
    "        return r\n",
    "    else:\n",
    "        pass"
   ]
  },
  {
   "cell_type": "code",
   "execution_count": 126,
   "metadata": {},
   "outputs": [],
   "source": [
    "def category(choice):\n",
    "\n",
    "    if choice == \"Supermarkets\":\n",
    "        return list(filter(None, map(sum_gym, coordinates_prueba)))\n",
    "    \n",
    "    elif choice == \"Gyms\":\n",
    "        return  list(filter(None, map(sum_superm, coordinates_prueba)))\n",
    "    \n",
    "    elif choice == \"Clothing store\":\n",
    "        return list(filter(None, map(sum_store, coordinates_prueba)))\n",
    "    \n",
    "    elif choice == \"Nightlife\":\n",
    "        return  list(filter(None, map(sum_nightlife, coordinates_prueba)))\n",
    "    \n",
    "    elif choice == \"Transport\":\n",
    "        return list(filter(None, map(sum_transport, coordinates_prueba)))\n",
    "    \n",
    "    elif choice == \"Entertainment\":\n",
    "        return  list(filter(None, map(sum_ent, coordinates_prueba)))\n",
    "    \n",
    "    elif choice == \"Medical centre\":\n",
    "        return list(filter(None, map(sum_medical, coordinates_prueba)))"
   ]
  },
  {
   "cell_type": "code",
   "execution_count": 179,
   "metadata": {},
   "outputs": [],
   "source": [
    "def final(cat_1, cat_2, cat_3):\n",
    "\n",
    "    lista = []\n",
    "\n",
    "    lista.append(category(cat_1))\n",
    "    lista.append(category(cat_2))\n",
    "    lista.append(category(cat_3))\n",
    "\n",
    "    x = pd.DataFrame(lista[0])\n",
    "    y = pd.DataFrame(lista[1])\n",
    "    z = pd.DataFrame(lista[2])\n",
    "\n",
    "    return pd.concat([x,y,z]).drop_duplicates(subset = \"latitude\")"
   ]
  }
 ],
 "metadata": {
  "kernelspec": {
   "display_name": "Python 3",
   "language": "python",
   "name": "python3"
  },
  "language_info": {
   "codemirror_mode": {
    "name": "ipython",
    "version": 3
   },
   "file_extension": ".py",
   "mimetype": "text/x-python",
   "name": "python",
   "nbconvert_exporter": "python",
   "pygments_lexer": "ipython3",
   "version": "3.9.0"
  }
 },
 "nbformat": 4,
 "nbformat_minor": 4
}
