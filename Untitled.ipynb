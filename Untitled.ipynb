{
 "cells": [
  {
   "cell_type": "code",
   "execution_count": 225,
   "metadata": {},
   "outputs": [],
   "source": [
    "import pandas as pd\n",
    "import numpy as np\n",
    "import requests\n",
    "import geopandas, shapely\n",
    "import json\n",
    "from functools import reduce\n",
    "import operator\n",
    "from pymongo import MongoClient,GEOSPHERE"
   ]
  },
  {
   "cell_type": "code",
   "execution_count": 163,
   "metadata": {},
   "outputs": [],
   "source": [
    "conn = MongoClient(\"localhost:27017\")\n",
    "db = conn.get_database(\"ironhack\")\n",
    "c = db.get_collection(\"final_project\")"
   ]
  },
  {
   "cell_type": "markdown",
   "metadata": {},
   "source": [
    "### Google API"
   ]
  },
  {
   "cell_type": "code",
   "execution_count": 3,
   "metadata": {},
   "outputs": [],
   "source": [
    "my_key = open(\"keys\\\\google_key.txt\").readlines()[0]"
   ]
  },
  {
   "cell_type": "code",
   "execution_count": 28,
   "metadata": {},
   "outputs": [],
   "source": [
    "url = f\"{base_url}address=Calle%20Costa%20Brava%2019&key={my_key}\""
   ]
  },
  {
   "cell_type": "code",
   "execution_count": 29,
   "metadata": {},
   "outputs": [],
   "source": [
    "response = requests.get(url)"
   ]
  },
  {
   "cell_type": "markdown",
   "metadata": {},
   "source": [
    "### FOURSQUARE API"
   ]
  },
  {
   "cell_type": "code",
   "execution_count": 4,
   "metadata": {},
   "outputs": [],
   "source": [
    "client_id = open(\"keys\\\\foursquare_key.txt\").readlines()[0]\n",
    "client_secret = open(\"keys\\\\foursquare_key.txt\").readlines()[1]"
   ]
  },
  {
   "cell_type": "code",
   "execution_count": 7,
   "metadata": {},
   "outputs": [],
   "source": [
    "\n",
    "def extract(url):\n",
    "    \n",
    "    results = requests.get(url)\n",
    "\n",
    "    code = json.loads(results.text)\n",
    "\n",
    "    decoding = code.get(\"response\")\n",
    "\n",
    "    decoded = decoding.get(\"groups\")[0]\n",
    "\n",
    "    return decoded.get(\"items\")"
   ]
  },
  {
   "cell_type": "markdown",
   "metadata": {},
   "source": [
    "### Prueba para encontrar punto central de acuerdo a condiciones "
   ]
  },
  {
   "cell_type": "code",
   "execution_count": 19,
   "metadata": {},
   "outputs": [],
   "source": [
    "# Restaurantes\n",
    "CLIENT_ID = client_id\n",
    "CLIENT_SECRET = client_secret\n",
    "VERSION = '20180323'\n",
    "LIMIT = 50\n",
    "LL = '40.457755, -3.690243'\n",
    "RAD = 5000\n",
    "CATEGORY_ID = '4d4b7105d754a06374d81259'"
   ]
  },
  {
   "cell_type": "code",
   "execution_count": 20,
   "metadata": {},
   "outputs": [],
   "source": [
    "url = f'https://api.foursquare.com/v2/venues/explore?&client_id={CLIENT_ID}&client_secret={CLIENT_SECRET}&v={VERSION}&ll={LL}&radius={RAD}&limit={LIMIT}&categoryId={CATEGORY_ID}'"
   ]
  },
  {
   "cell_type": "code",
   "execution_count": 21,
   "metadata": {},
   "outputs": [],
   "source": [
    "restaurantes = extract(url)"
   ]
  },
  {
   "cell_type": "code",
   "execution_count": 207,
   "metadata": {},
   "outputs": [],
   "source": [
    "def getFromDict(diccionario,mapa):\n",
    "    return reduce(operator.getitem,mapa,diccionario)\n",
    "\n",
    "def places_df(frame,category):\n",
    "    \n",
    "    nombre = [\"venue\",\"name\"]\n",
    "    latitud = [\"venue\", \"location\",\"lat\"]\n",
    "    longitud = [\"venue\",\"location\",\"lng\"]\n",
    "    barrio = [\"venue\", \"location\", \"neighborhood\"]\n",
    "    tipo = [\"venue\", \"categories\", \"pluralName\"]\n",
    "    x = []\n",
    "    \n",
    "    for diccionario in frame:\n",
    "        lista = {}\n",
    "        lista[\"name\"] = getFromDict(diccionario,nombre)\n",
    "        lista[\"longitud\"] = getFromDict(diccionario,longitud)\n",
    "        lista[\"latitud\"] = getFromDict(diccionario,latitud)\n",
    "\n",
    "        \n",
    "        x.append(lista)\n",
    "        \n",
    "        df = pd.DataFrame(x)\n",
    "\n",
    "    c = [category for _ in range(len(frame))]\n",
    "        \n",
    "    df[\"category\"] = c\n",
    "    \n",
    "    return df"
   ]
  },
  {
   "cell_type": "code",
   "execution_count": 208,
   "metadata": {},
   "outputs": [],
   "source": [
    "restaurants_df = places_df(restaurantes, \"restaurants\")"
   ]
  },
  {
   "cell_type": "code",
   "execution_count": 63,
   "metadata": {},
   "outputs": [],
   "source": [
    "# Farmacia"
   ]
  },
  {
   "cell_type": "code",
   "execution_count": 77,
   "metadata": {},
   "outputs": [],
   "source": [
    "CLIENT_ID = client_id\n",
    "CLIENT_SECRET = client_secret\n",
    "VERSION = '20180323'\n",
    "LIMIT = 20\n",
    "LL = '40.457755, -3.690243'\n",
    "RAD = 5000\n",
    "CATEGORY_ID = '4bf58dd8d48988d10f951735'\n",
    "\n",
    "url1 = f'https://api.foursquare.com/v2/venues/explore?&client_id={CLIENT_ID}&client_secret={CLIENT_SECRET}&v={VERSION}&ll={LL}&radius={RAD}&limit={LIMIT}&categoryId={CATEGORY_ID}'"
   ]
  },
  {
   "cell_type": "code",
   "execution_count": 78,
   "metadata": {},
   "outputs": [],
   "source": [
    "phar = extract(url1)"
   ]
  },
  {
   "cell_type": "code",
   "execution_count": 209,
   "metadata": {},
   "outputs": [],
   "source": [
    "phar_df = places_df(phar, \"pharmacy\")"
   ]
  },
  {
   "cell_type": "code",
   "execution_count": 82,
   "metadata": {},
   "outputs": [],
   "source": [
    "#Cuidado de niños"
   ]
  },
  {
   "cell_type": "code",
   "execution_count": 83,
   "metadata": {},
   "outputs": [],
   "source": [
    "CLIENT_ID = client_id\n",
    "CLIENT_SECRET = client_secret\n",
    "VERSION = '20180323'\n",
    "LIMIT = 20\n",
    "LL = '40.457755, -3.690243'\n",
    "RAD = 5000\n",
    "CATEGORY_ID = '5744ccdfe4b0c0459246b4c7'\n",
    "url2 = f'https://api.foursquare.com/v2/venues/explore?&client_id={CLIENT_ID}&client_secret={CLIENT_SECRET}&v={VERSION}&ll={LL}&radius={RAD}&limit={LIMIT}&categoryId={CATEGORY_ID}'"
   ]
  },
  {
   "cell_type": "code",
   "execution_count": 84,
   "metadata": {},
   "outputs": [],
   "source": [
    "child = extract(url2)"
   ]
  },
  {
   "cell_type": "code",
   "execution_count": 210,
   "metadata": {},
   "outputs": [],
   "source": [
    "child_df = places_df(child, \"child_care\")"
   ]
  },
  {
   "cell_type": "code",
   "execution_count": 211,
   "metadata": {},
   "outputs": [],
   "source": [
    "prueba = pd.concat([restaurants_df, phar_df, child_df])"
   ]
  },
  {
   "cell_type": "markdown",
   "metadata": {},
   "source": [
    "### Prueba de geopandas"
   ]
  },
  {
   "cell_type": "code",
   "execution_count": 213,
   "metadata": {},
   "outputs": [],
   "source": [
    "def geo_frame(frame):\n",
    "    return geopandas.GeoDataFrame(\n",
    "        frame, geometry=geopandas.points_from_xy(frame.longitud, frame.latitud))\n",
    "     "
   ]
  },
  {
   "cell_type": "code",
   "execution_count": 232,
   "metadata": {},
   "outputs": [],
   "source": [
    "geo_data = geo_frame(prueba)"
   ]
  },
  {
   "cell_type": "code",
   "execution_count": null,
   "metadata": {},
   "outputs": [],
   "source": [
    "c.create_index([(\"geometry\",GEOSPHERE)])"
   ]
  },
  {
   "cell_type": "code",
   "execution_count": 182,
   "metadata": {},
   "outputs": [],
   "source": [
    "def insert_object(df, collection):\n",
    "    '''\n",
    "    This function inserts all the information from the dataframe we created with the previous function as a Mongodb object.\n",
    "    This object will have two field: title (name of the film or show) and reviews (array with all the reviews users have made)\n",
    "    '''\n",
    "\n",
    "    collection.insert_many(prueba.to_dict('records'))\n",
    "\n",
    "    return \"Data succesfully added\""
   ]
  },
  {
   "cell_type": "code",
   "execution_count": 231,
   "metadata": {},
   "outputs": [
    {
     "data": {
      "text/plain": [
       "'Data succesfully added'"
      ]
     },
     "execution_count": 231,
     "metadata": {},
     "output_type": "execute_result"
    }
   ],
   "source": [
    "insert_object(geo_data,c)"
   ]
  },
  {
   "cell_type": "code",
   "execution_count": 234,
   "metadata": {},
   "outputs": [
    {
     "data": {
      "text/html": [
       "<div>\n",
       "<style scoped>\n",
       "    .dataframe tbody tr th:only-of-type {\n",
       "        vertical-align: middle;\n",
       "    }\n",
       "\n",
       "    .dataframe tbody tr th {\n",
       "        vertical-align: top;\n",
       "    }\n",
       "\n",
       "    .dataframe thead th {\n",
       "        text-align: right;\n",
       "    }\n",
       "</style>\n",
       "<table border=\"1\" class=\"dataframe\">\n",
       "  <thead>\n",
       "    <tr style=\"text-align: right;\">\n",
       "      <th></th>\n",
       "      <th>name</th>\n",
       "      <th>longitud</th>\n",
       "      <th>latitud</th>\n",
       "      <th>category</th>\n",
       "    </tr>\n",
       "  </thead>\n",
       "  <tbody>\n",
       "    <tr>\n",
       "      <th>0</th>\n",
       "      <td>FAMILIA Y DEPENDENCIA</td>\n",
       "      <td>-3.695409</td>\n",
       "      <td>40.459281</td>\n",
       "      <td>child_care</td>\n",
       "    </tr>\n",
       "    <tr>\n",
       "      <th>1</th>\n",
       "      <td>Escuela Infantil Lázaro</td>\n",
       "      <td>-3.650015</td>\n",
       "      <td>40.428936</td>\n",
       "      <td>child_care</td>\n",
       "    </tr>\n",
       "  </tbody>\n",
       "</table>\n",
       "</div>"
      ],
      "text/plain": [
       "                      name  longitud    latitud    category\n",
       "0    FAMILIA Y DEPENDENCIA -3.695409  40.459281  child_care\n",
       "1  Escuela Infantil Lázaro -3.650015  40.428936  child_care"
      ]
     },
     "execution_count": 234,
     "metadata": {},
     "output_type": "execute_result"
    }
   ],
   "source": [
    "child_df"
   ]
  },
  {
   "cell_type": "code",
   "execution_count": 259,
   "metadata": {},
   "outputs": [],
   "source": [
    "near = c.find({\"geometry\":\n",
    "       {\"$near\":\n",
    "       {\"$geometry\":\n",
    "       {\"type\":\"Point\",\n",
    "       \"coordinates\":[-3.695409,40.459281]},\n",
    "        \"$maxDistance\":1000\n",
    "       }}})"
   ]
  },
  {
   "cell_type": "code",
   "execution_count": 269,
   "metadata": {},
   "outputs": [
    {
     "data": {
      "text/plain": [
       "{'_id': ObjectId('5fd26a7508e12fab47657327'),\n",
       " 'name': 'FAMILIA Y DEPENDENCIA',\n",
       " 'longitud': -3.69540857,\n",
       " 'latitud': 40.45928143,\n",
       " 'category': 'child_care',\n",
       " 'geometry': {'type': 'Point', 'coordinates': [-3.69540857, 40.45928143]}}"
      ]
     },
     "execution_count": 269,
     "metadata": {},
     "output_type": "execute_result"
    }
   ],
   "source": [
    "x[0]"
   ]
  },
  {
   "cell_type": "code",
   "execution_count": 270,
   "metadata": {},
   "outputs": [
    {
     "name": "stdout",
     "output_type": "stream",
     "text": [
      "child_care\n",
      "restaurants\n",
      "restaurants\n",
      "restaurants\n",
      "restaurants\n",
      "restaurants\n",
      "restaurants\n",
      "restaurants\n",
      "restaurants\n",
      "restaurants\n",
      "restaurants\n"
     ]
    }
   ],
   "source": [
    "for i in x:\n",
    "    for j,k in i.items():\n",
    "        if j == \"category\":\n",
    "            print(k)"
   ]
  },
  {
   "cell_type": "code",
   "execution_count": null,
   "metadata": {},
   "outputs": [],
   "source": []
  }
 ],
 "metadata": {
  "kernelspec": {
   "display_name": "Python 3",
   "language": "python",
   "name": "python3"
  },
  "language_info": {
   "codemirror_mode": {
    "name": "ipython",
    "version": 3
   },
   "file_extension": ".py",
   "mimetype": "text/x-python",
   "name": "python",
   "nbconvert_exporter": "python",
   "pygments_lexer": "ipython3",
   "version": "3.9.0"
  }
 },
 "nbformat": 4,
 "nbformat_minor": 4
}
