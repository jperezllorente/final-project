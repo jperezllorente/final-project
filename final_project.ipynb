{
 "cells": [
  {
   "cell_type": "code",
   "execution_count": 255,
   "metadata": {},
   "outputs": [],
   "source": [
    "import pandas as pd\n",
    "import numpy as np\n",
    "import requests\n",
    "import regex as re\n",
    "import geopandas, shapely\n",
    "import json\n",
    "from functools import reduce\n",
    "import operator\n",
    "from pymongo import MongoClient,GEOSPHERE\n",
    "import src.api as api\n",
    "import src.df as df\n",
    "import src.insertdb as ins"
   ]
  },
  {
   "cell_type": "code",
   "execution_count": 2,
   "metadata": {},
   "outputs": [],
   "source": [
    "# Set connection with MongoDB\n",
    "conn = MongoClient(\"localhost:27017\")\n",
    "db = conn.get_database(\"final_project\")\n",
    "p = db.get_collection(\"places\")\n",
    "h = db.get_collection(\"homes\")"
   ]
  },
  {
   "cell_type": "code",
   "execution_count": 3,
   "metadata": {},
   "outputs": [
    {
     "data": {
      "text/plain": [
       "'geometry_2dsphere'"
      ]
     },
     "execution_count": 3,
     "metadata": {},
     "output_type": "execute_result"
    }
   ],
   "source": [
    "p.create_index([(\"geometry\",GEOSPHERE)])\n",
    "h.create_index([(\"geometry\",GEOSPHERE)])"
   ]
  },
  {
   "cell_type": "code",
   "execution_count": 4,
   "metadata": {},
   "outputs": [],
   "source": [
    "def insert_object(df, collection):\n",
    "    '''\n",
    "    This function inserts all the information from the dataframe we created with the previous function as a Mongodb object.\n",
    "    This object will have two field: title (name of the film or show) and reviews (array with all the reviews users have made)\n",
    "    '''\n",
    "\n",
    "    collection.insert_many(df.to_dict('records'))\n",
    "\n",
    "    return \"Data succesfully added\""
   ]
  },
  {
   "cell_type": "markdown",
   "metadata": {},
   "source": [
    "### Getting home data and cleaning it"
   ]
  },
  {
   "cell_type": "code",
   "execution_count": 6,
   "metadata": {},
   "outputs": [],
   "source": [
    "# Download JSON file \n",
    "data = json.load(open(\"data_vivienda.json\", 'r', encoding='utf-8'))"
   ]
  },
  {
   "cell_type": "code",
   "execution_count": 7,
   "metadata": {},
   "outputs": [
    {
     "data": {
      "text/plain": [
       "Index(['propertyCode', 'thumbnail', 'externalReference', 'numPhotos', 'floor',\n",
       "       'price', 'propertyType', 'operation', 'size', 'exterior', 'rooms',\n",
       "       'bathrooms', 'address', 'province', 'municipality', 'district',\n",
       "       'country', 'neighborhood', 'latitude', 'longitude', 'showAddress',\n",
       "       'url', 'hasVideo', 'status', 'newDevelopment', 'hasLift', 'priceByArea',\n",
       "       'detailedType', 'suggestedTexts', 'hasPlan', 'has3DTour', 'has360',\n",
       "       'parkingSpace', 'newDevelopmentFinished'],\n",
       "      dtype='object')"
      ]
     },
     "execution_count": 7,
     "metadata": {},
     "output_type": "execute_result"
    }
   ],
   "source": [
    "data_vivienda = pd.DataFrame(data)\n",
    "data_vivienda.columns"
   ]
  },
  {
   "cell_type": "code",
   "execution_count": 8,
   "metadata": {},
   "outputs": [],
   "source": [
    "data_vivienda = data_vivienda.drop([\"thumbnail\",\"propertyCode\", \"externalReference\", \"numPhotos\", \"hasVideo\", \"priceByArea\", \"detailedType\", \"country\", \"suggestedTexts\", \"hasPlan\", \"has3DTour\", \"has360\", \"newDevelopmentFinished\"], axis = 1)"
   ]
  },
  {
   "cell_type": "code",
   "execution_count": 9,
   "metadata": {},
   "outputs": [],
   "source": [
    "# I'm only interested in those houses inside Madrid, so I'm going to delete all observations that belong to another municipality\n",
    "data_vivienda = data_vivienda[data_vivienda[\"municipality\"]==\"Madrid\"]"
   ]
  },
  {
   "cell_type": "code",
   "execution_count": 10,
   "metadata": {},
   "outputs": [
    {
     "data": {
      "text/plain": [
       "floor              object\n",
       "price             float64\n",
       "propertyType       object\n",
       "operation          object\n",
       "size              float64\n",
       "exterior             bool\n",
       "rooms               int64\n",
       "bathrooms           int64\n",
       "address            object\n",
       "province           object\n",
       "municipality       object\n",
       "district           object\n",
       "neighborhood       object\n",
       "latitude          float64\n",
       "longitude         float64\n",
       "showAddress          bool\n",
       "url                object\n",
       "status             object\n",
       "newDevelopment       bool\n",
       "hasLift            object\n",
       "parkingSpace       object\n",
       "dtype: object"
      ]
     },
     "execution_count": 10,
     "metadata": {},
     "output_type": "execute_result"
    }
   ],
   "source": [
    "data_vivienda.dtypes"
   ]
  },
  {
   "cell_type": "code",
   "execution_count": 60,
   "metadata": {},
   "outputs": [
    {
     "data": {
      "text/plain": [
       "floor              108\n",
       "price                0\n",
       "propertyType         0\n",
       "operation            0\n",
       "size                 0\n",
       "exterior             0\n",
       "rooms                0\n",
       "bathrooms            0\n",
       "address              0\n",
       "province             0\n",
       "municipality         0\n",
       "district             0\n",
       "neighborhood         0\n",
       "latitude             0\n",
       "longitude            0\n",
       "showAddress          0\n",
       "url                  0\n",
       "status             556\n",
       "newDevelopment       0\n",
       "hasLift            154\n",
       "parkingSpace      6018\n",
       "dtype: int64"
      ]
     },
     "execution_count": 60,
     "metadata": {},
     "output_type": "execute_result"
    }
   ],
   "source": [
    "data_vivienda.isnull().sum()\n",
    "# Parkingspace has too many null values, and as we cannot fill the with a proper value the best option is to drop the whole column (explain in API the reason for the lack of information)\n",
    "# Let's check the floor, status and hasLift variables"
   ]
  },
  {
   "cell_type": "code",
   "execution_count": 11,
   "metadata": {},
   "outputs": [],
   "source": [
    "data_vivienda = data_vivienda.drop(\"parkingSpace\", axis = 1)"
   ]
  },
  {
   "cell_type": "code",
   "execution_count": 74,
   "metadata": {},
   "outputs": [
    {
     "data": {
      "text/plain": [
       "good              8000\n",
       "renew               24\n",
       "newdevelopment       8\n",
       "Name: status, dtype: int64"
      ]
     },
     "execution_count": 74,
     "metadata": {},
     "output_type": "execute_result"
    }
   ],
   "source": [
    "data_vivienda.status.value_counts()\n",
    "# In this case we are going to fill the null values with 'unspecified'"
   ]
  },
  {
   "cell_type": "code",
   "execution_count": 12,
   "metadata": {},
   "outputs": [],
   "source": [
    "# There a couple of values that are not numbers, so I'm going to change them to a value that can be valid. In this case '0', as after looking a Idelista we can assume they are street level homes\n",
    "data_vivienda.floor = data_vivienda.floor.replace([\"bj\",\"en\",\"st\",\"ss\"], \"0\", regex = True)"
   ]
  },
  {
   "cell_type": "code",
   "execution_count": 13,
   "metadata": {},
   "outputs": [],
   "source": [
    "data_vivienda.status = data_vivienda.status.fillna('unspecified')"
   ]
  },
  {
   "cell_type": "code",
   "execution_count": 14,
   "metadata": {},
   "outputs": [],
   "source": [
    "data_vivienda.hasLift = data_vivienda.hasLift.fillna(\"unspecified\")"
   ]
  },
  {
   "cell_type": "code",
   "execution_count": 15,
   "metadata": {},
   "outputs": [],
   "source": [
    "data_vivienda = data_vivienda.dropna(how = 'any')"
   ]
  },
  {
   "cell_type": "code",
   "execution_count": 16,
   "metadata": {},
   "outputs": [],
   "source": [
    "def geo_frame(df):\n",
    "    df = geopandas.GeoDataFrame(df, geometry=geopandas.points_from_xy(df.latitude, df.longitude))\n",
    "    df['geometry']=df['geometry'].apply(lambda x:shapely.geometry.mapping(x))\n",
    "    return df"
   ]
  },
  {
   "cell_type": "code",
   "execution_count": 17,
   "metadata": {},
   "outputs": [
    {
     "name": "stderr",
     "output_type": "stream",
     "text": [
      "c:\\users\\juanp\\anaconda3\\envs\\ironhack\\lib\\site-packages\\geopandas\\geodataframe.py:852: UserWarning: Geometry column does not contain geometry.\n",
      "  warnings.warn(\"Geometry column does not contain geometry.\")\n"
     ]
    }
   ],
   "source": [
    "data_vivienda = geo_frame(data_vivienda)"
   ]
  },
  {
   "cell_type": "code",
   "execution_count": 180,
   "metadata": {},
   "outputs": [
    {
     "data": {
      "text/plain": [
       "'Data succesfully added'"
      ]
     },
     "execution_count": 180,
     "metadata": {},
     "output_type": "execute_result"
    }
   ],
   "source": [
    "insert_object(data_vivienda, h)"
   ]
  },
  {
   "cell_type": "markdown",
   "metadata": {},
   "source": [
    "### Google API"
   ]
  },
  {
   "cell_type": "code",
   "execution_count": 18,
   "metadata": {},
   "outputs": [],
   "source": [
    "my_key = open(\"keys\\\\google_key.txt\").readlines()[0]"
   ]
  },
  {
   "cell_type": "code",
   "execution_count": 7,
   "metadata": {},
   "outputs": [],
   "source": [
    "response = requests.get(url)"
   ]
  },
  {
   "cell_type": "markdown",
   "metadata": {},
   "source": [
    "#### Find places with google API"
   ]
  },
  {
   "cell_type": "code",
   "execution_count": 19,
   "metadata": {},
   "outputs": [],
   "source": [
    "base_url = \"https://maps.googleapis.com/maps/api/place/nearbysearch/json?\""
   ]
  },
  {
   "cell_type": "code",
   "execution_count": 56,
   "metadata": {},
   "outputs": [],
   "source": [
    "location = '40.446067,-3.691247' # I have picked Nuevos Minesterios as center of all queries\n",
    "radius = '10000'\n",
    "tipo = \"restaurant\"\n",
    "page_token = my_key\n",
    "url = f\"{base_url}location={location}&radius={radius}&type={tipo}&key={my_key}\""
   ]
  },
  {
   "cell_type": "code",
   "execution_count": 57,
   "metadata": {},
   "outputs": [],
   "source": [
    "response = requests.get(url)"
   ]
  },
  {
   "cell_type": "code",
   "execution_count": 59,
   "metadata": {},
   "outputs": [],
   "source": [
    "prueba = response.json()"
   ]
  },
  {
   "cell_type": "code",
   "execution_count": 63,
   "metadata": {},
   "outputs": [],
   "source": [
    "next_page_token = prueba[\"next_page_token\"]\n",
    "url_next = f\"{base_url}pagetoken={next_page_token}&key={my_key}\""
   ]
  },
  {
   "cell_type": "code",
   "execution_count": 66,
   "metadata": {},
   "outputs": [],
   "source": [
    "response = requests.get(url_next)"
   ]
  },
  {
   "cell_type": "code",
   "execution_count": 67,
   "metadata": {},
   "outputs": [],
   "source": [
    "prueba = response.json()"
   ]
  },
  {
   "cell_type": "markdown",
   "metadata": {},
   "source": [
    "### FOURSQUARE API"
   ]
  },
  {
   "cell_type": "code",
   "execution_count": 74,
   "metadata": {},
   "outputs": [],
   "source": [
    "client_id = open(\"keys\\\\foursquare_key.txt\").readlines()[0]\n",
    "client_secret = open(\"keys\\\\foursquare_key.txt\").readlines()[1]"
   ]
  },
  {
   "cell_type": "code",
   "execution_count": 75,
   "metadata": {},
   "outputs": [],
   "source": [
    "\n",
    "def extract(url):\n",
    "    \n",
    "    results = requests.get(url)\n",
    "\n",
    "    code = json.loads(results.text)\n",
    "\n",
    "    decoding = code.get(\"response\")\n",
    "\n",
    "    decoded = decoding.get(\"groups\")[0]\n",
    "\n",
    "    return decoded.get(\"items\")"
   ]
  },
  {
   "cell_type": "markdown",
   "metadata": {},
   "source": [
    "### Prueba para encontrar punto central de acuerdo a condiciones "
   ]
  },
  {
   "cell_type": "code",
   "execution_count": 129,
   "metadata": {},
   "outputs": [],
   "source": [
    "# IDs\n",
    "nightlife = \"4d4b7105d754a06376d81259\"\n",
    "gym = \"4bf58dd8d48988d175941735\"\n",
    "park = \"4bf58dd8d48988d163941735\"\n",
    "hospital = \"4bf58dd8d48988d196941735\"\n",
    "elementary_school = \"4f4533804b9074f6e4fb0105\"\n",
    "high_school = \"4bf58dd8d48988d13d941735\"\n",
    "middle_school = \"4f4533814b9074f6e4fb0106\"\n",
    "clothing_store = \"4bf58dd8d48988d103951735\"\n",
    "daycare = \"4f4532974b9074f6e4fb0104\"\n",
    "grocery_store = \"4bf58dd8d48988d118951735\"\n",
    "supermarket = \"52f2ab2ebcbc57f1066b8b46\"\n",
    "pharmacy = \"4bf58dd8d48988d10f951735\"\n",
    "general_entertainment = \"4d4b7104d754a06370d81259\"\n",
    "bar = \"4bf58dd8d48988d116941735\""
   ]
  },
  {
   "cell_type": "code",
   "execution_count": 77,
   "metadata": {},
   "outputs": [],
   "source": [
    "# Restaurantes\n",
    "version = '20180323'\n",
    "limit = 300\n",
    "radius = 9000\n",
    "location = '40.446067,-3.691247' # I have picked Nuevos Minesterios as center of all queries\n",
    "radius = '9000'"
   ]
  },
  {
   "cell_type": "code",
   "execution_count": null,
   "metadata": {},
   "outputs": [],
   "source": [
    "url = f'https://api.foursquare.com/v2/venues/explore?&client_id={client_id}&client_secret={client_secret}&v={version}&ll=40.446067,-3.691247&radius={radius}&limit={limit}&categoryId={cat_id}'\n",
    "hospitals = extract(url)\n",
    "hospitals_df = places_df(hospitals, \"medical_centre\")\n",
    "hospitals_df.head()"
   ]
  },
  {
   "cell_type": "code",
   "execution_count": null,
   "metadata": {},
   "outputs": [],
   "source": [
    "def getFromDict(diccionario,mapa):\n",
    "    return reduce(operator.getitem,mapa,diccionario)\n",
    "\n",
    "def places_df(frame,category):\n",
    "    \n",
    "    nombre = [\"venue\",\"name\"]\n",
    "    latitud = [\"venue\", \"location\",\"lat\"]\n",
    "    longitud = [\"venue\",\"location\",\"lng\"]\n",
    "    barrio = [\"venue\", \"location\", \"neighborhood\"]\n",
    "    tipo = [\"venue\", \"categories\", \"pluralName\"]\n",
    "    x = []\n",
    "    \n",
    "    for diccionario in frame:\n",
    "        lista = {}\n",
    "        lista[\"name\"] = getFromDict(diccionario,nombre)\n",
    "        lista[\"longitude\"] = getFromDict(diccionario,longitud)\n",
    "        lista[\"latitude\"] = getFromDict(diccionario,latitud)\n",
    "\n",
    "        \n",
    "        x.append(lista)\n",
    "        \n",
    "        df = pd.DataFrame(x)\n",
    "\n",
    "    c = [category for _ in range(len(frame))]\n",
    "        \n",
    "    df[\"category\"] = c\n",
    "    \n",
    "    return df"
   ]
  },
  {
   "cell_type": "code",
   "execution_count": 97,
   "metadata": {},
   "outputs": [],
   "source": [
    "def locations(radius, limit, cat_id, category ):\n",
    "    url = f'https://api.foursquare.com/v2/venues/explore?&client_id={client_id}&client_secret={client_secret}&v={version}&ll=40.446067,-3.691247&radius={radius}&limit={limit}&categoryId={cat_id}'\n",
    "    x = extract(url)\n",
    "    return places_df(x, category)"
   ]
  },
  {
   "cell_type": "code",
   "execution_count": 157,
   "metadata": {},
   "outputs": [],
   "source": [
    "# Gyms\n",
    "gym_df = locations(9000, 300, gym, \"gym\")"
   ]
  },
  {
   "cell_type": "code",
   "execution_count": 153,
   "metadata": {},
   "outputs": [],
   "source": [
    "# Museos\n",
    "ent_df = locations(9000, 300, general_entertainment, \"general_entertainment\")"
   ]
  },
  {
   "cell_type": "code",
   "execution_count": 146,
   "metadata": {},
   "outputs": [],
   "source": [
    "pharmacy_df = locations(9000, 300, pharmacy, \"medical_centre\")"
   ]
  },
  {
   "cell_type": "code",
   "execution_count": 159,
   "metadata": {},
   "outputs": [],
   "source": [
    "supermarkets_df = locations(9000, 300, supermarket, \"supermarket\")"
   ]
  },
  {
   "cell_type": "code",
   "execution_count": 166,
   "metadata": {},
   "outputs": [],
   "source": [
    "clothes_stores = locations(9000, 300, clothing_store, \"clothing_store\")"
   ]
  },
  {
   "cell_type": "code",
   "execution_count": 170,
   "metadata": {},
   "outputs": [],
   "source": [
    "conjunto = pd.concat([ent_df, gyms_df, hospitals_df, pharmacy_df, supermarkets_df, clothes_stores])"
   ]
  },
  {
   "cell_type": "code",
   "execution_count": null,
   "metadata": {},
   "outputs": [],
   "source": [
    "conjunto = geo_frame(conjunto)"
   ]
  },
  {
   "cell_type": "code",
   "execution_count": 179,
   "metadata": {},
   "outputs": [
    {
     "data": {
      "text/plain": [
       "'Data succesfully added'"
      ]
     },
     "execution_count": 179,
     "metadata": {},
     "output_type": "execute_result"
    }
   ],
   "source": [
    "insert_object(conjunto, p)"
   ]
  },
  {
   "cell_type": "code",
   "execution_count": 256,
   "metadata": {},
   "outputs": [
    {
     "ename": "TypeError",
     "evalue": "insert_object() missing 2 required positional arguments: 'genres' and 'collection'",
     "output_type": "error",
     "traceback": [
      "\u001b[1;31m---------------------------------------------------------------------------\u001b[0m",
      "\u001b[1;31mTypeError\u001b[0m                                 Traceback (most recent call last)",
      "\u001b[1;32m<ipython-input-256-395f3b297a85>\u001b[0m in \u001b[0;36m<module>\u001b[1;34m\u001b[0m\n\u001b[1;32m----> 1\u001b[1;33m \u001b[0mins\u001b[0m\u001b[1;33m.\u001b[0m\u001b[0minsert_object\u001b[0m\u001b[1;33m(\u001b[0m\u001b[0mconjunto\u001b[0m\u001b[1;33m,\u001b[0m \u001b[0mp\u001b[0m\u001b[1;33m)\u001b[0m\u001b[1;33m\u001b[0m\u001b[1;33m\u001b[0m\u001b[0m\n\u001b[0m",
      "\u001b[1;31mTypeError\u001b[0m: insert_object() missing 2 required positional arguments: 'genres' and 'collection'"
     ]
    }
   ],
   "source": [
    "ins.insert_object(conjunto, p)"
   ]
  },
  {
   "cell_type": "code",
   "execution_count": 182,
   "metadata": {},
   "outputs": [
    {
     "data": {
      "text/plain": [
       "(543, 5)"
      ]
     },
     "execution_count": 182,
     "metadata": {},
     "output_type": "execute_result"
    }
   ],
   "source": [
    "conjunto.shape"
   ]
  },
  {
   "cell_type": "markdown",
   "metadata": {},
   "source": [
    "### Trying geo queries with differente collections"
   ]
  },
  {
   "cell_type": "code",
   "execution_count": 237,
   "metadata": {},
   "outputs": [],
   "source": [
    "def lugar(coords):\n",
    "    return  list(p.find(\n",
    "        {\"geometry\": {\"$near\": {\n",
    "            \"$geometry\": {\"type\": \"Point\" ,\n",
    "             \"coordinates\": coords\n",
    "       }, \"$maxDistance\": 1000}}},\n",
    "    ))\n",
    "    "
   ]
  },
  {
   "cell_type": "code",
   "execution_count": 238,
   "metadata": {},
   "outputs": [],
   "source": [
    "coords = [40.455228,-3.784494]\n",
    "prueba = lugar(coords)"
   ]
  },
  {
   "cell_type": "code",
   "execution_count": 221,
   "metadata": {},
   "outputs": [],
   "source": [
    "coordinates = [list(i[\"coordinates\"]) for i in data_vivienda.geometry] "
   ]
  },
  {
   "cell_type": "code",
   "execution_count": 228,
   "metadata": {},
   "outputs": [
    {
     "name": "stdout",
     "output_type": "stream",
     "text": [
      "<class 'list'>\n"
     ]
    }
   ],
   "source": [
    "for i in coordinates:\n",
    "    print(type(i))\n",
    "    break"
   ]
  },
  {
   "cell_type": "code",
   "execution_count": 240,
   "metadata": {},
   "outputs": [],
   "source": [
    "prueba_2 = list(map(lugar, coordinates))"
   ]
  },
  {
   "cell_type": "code",
   "execution_count": 244,
   "metadata": {},
   "outputs": [
    {
     "data": {
      "text/plain": [
       "8480"
      ]
     },
     "execution_count": 244,
     "metadata": {},
     "output_type": "execute_result"
    }
   ],
   "source": [
    "len(prueba_2)"
   ]
  },
  {
   "cell_type": "code",
   "execution_count": null,
   "metadata": {},
   "outputs": [],
   "source": []
  }
 ],
 "metadata": {
  "kernelspec": {
   "display_name": "Python 3",
   "language": "python",
   "name": "python3"
  },
  "language_info": {
   "codemirror_mode": {
    "name": "ipython",
    "version": 3
   },
   "file_extension": ".py",
   "mimetype": "text/x-python",
   "name": "python",
   "nbconvert_exporter": "python",
   "pygments_lexer": "ipython3",
   "version": "3.9.0"
  }
 },
 "nbformat": 4,
 "nbformat_minor": 4
}
